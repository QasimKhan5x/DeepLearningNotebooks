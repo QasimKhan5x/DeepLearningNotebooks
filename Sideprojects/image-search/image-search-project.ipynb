{
 "cells": [
  {
   "cell_type": "code",
   "execution_count": 81,
   "id": "16f3031d",
   "metadata": {
    "ExecuteTime": {
     "end_time": "2021-10-27T19:38:49.675226Z",
     "start_time": "2021-10-27T19:38:49.661248Z"
    }
   },
   "outputs": [],
   "source": [
    "import torchvision.transforms as T\n",
    "import torch.nn.functional as F\n",
    "import torch.nn as nn\n",
    "import torch\n",
    "from torchsummary import summary\n",
    "from scipy.spatial.distance import hamming, cosine\n",
    "import numpy as np\n",
    "import os\n",
    "import cv2\n",
    "from PIL import Image\n",
    "import matplotlib.pyplot as plt\n",
    "import pandas as pd\n",
    "import pickle\n",
    "import gc\n",
    "\n",
    "from tqdm.notebook import tqdm"
   ]
  },
  {
   "cell_type": "markdown",
   "id": "d017f0dd",
   "metadata": {},
   "source": [
    "## Load Data and Helper Functions"
   ]
  },
  {
   "cell_type": "code",
   "execution_count": 2,
   "id": "6b528f0a",
   "metadata": {
    "ExecuteTime": {
     "end_time": "2021-10-27T18:23:43.823259Z",
     "start_time": "2021-10-27T18:23:43.808257Z"
    }
   },
   "outputs": [],
   "source": [
    "def load_image(img_path, img_size):\n",
    "    '''\n",
    "    Load an image from disk\n",
    "\n",
    "    Parameters\n",
    "    ----------\n",
    "    img_path : str\n",
    "        Path to image\n",
    "    img_size : tuple\n",
    "        Size of an output image. E.g. (32, 32)\n",
    "\n",
    "    Returns\n",
    "    ----------\n",
    "    img : numpy array\n",
    "        3-D array array representing the image in RGB format\n",
    "    '''\n",
    "\n",
    "    img = cv2.imread(img_path)\n",
    "    img = cv2.cvtColor(img, cv2.COLOR_BGR2RGB)\n",
    "    img = cv2.resize(img, img_size, cv2.INTER_CUBIC)\n",
    "    return img"
   ]
  },
  {
   "cell_type": "code",
   "execution_count": 3,
   "id": "298d0a42",
   "metadata": {
    "ExecuteTime": {
     "end_time": "2021-10-27T18:23:44.165926Z",
     "start_time": "2021-10-27T18:23:44.032343Z"
    }
   },
   "outputs": [],
   "source": [
    "def preprocess(imgs_path, labels_path, img_shape, save_path, pickle_path):\n",
    "    '''\n",
    "    Load images and labels from dataset folder\n",
    "\n",
    "    Parameters\n",
    "    ----------\n",
    "    imgs_path : str\n",
    "        Path to images dataset\n",
    "    labels_path : str\n",
    "        Path to labels file\n",
    "    img_shape : str\n",
    "        Resultant size of images\n",
    "    save_path : str\n",
    "        Directory wherein to store loaded images, labels, and paths\n",
    "    pickle_path : str\n",
    "        File in which to store list containing paths to all images\n",
    "\n",
    "    Returns\n",
    "    ----------\n",
    "    images : numpy array\n",
    "        Array containing all images. Shape: (num_images, *img_shape, 3)\n",
    "    images : numpy array\n",
    "        Array containing label for each image. Shape: (num_images)\n",
    "    '''\n",
    "    # if already saved, simply load\n",
    "    if os.path.isfile(save_path + \".npz\") and os.path.isfile(pickle_path +\n",
    "                                                             \".pickle\"):\n",
    "        data = np.load(save_path + \".npz\")\n",
    "        images = data['images']\n",
    "        labels = data['labels']\n",
    "        return images, labels\n",
    "\n",
    "    # create list of classes\n",
    "    with open(labels_path) as f:\n",
    "        classes = [c.strip() for c in f.readlines()]\n",
    "    # assign a label to each class\n",
    "    class2label = {label: i for i, label in enumerate(classes)}\n",
    "    files = os.listdir(imgs_path)\n",
    "    images, labels = np.zeros((len(files), 32, 32, 3)), np.zeros(\n",
    "        (len(files)))\n",
    "    image_paths = []\n",
    "\n",
    "    for i, filename in enumerate(tqdm(files)):\n",
    "        img_path = os.path.join(imgs_path, filename)\n",
    "        image_paths.append(img_path)\n",
    "        label = filename.split('_')[-1].split(\".\")[0]\n",
    "        labels[i] = class2label[label]\n",
    "        images[i] = load_image(img_path, img_shape)\n",
    "\n",
    "    assert images.shape[\n",
    "        0] == labels.size, \"Number of Images != Number of Labels\"\n",
    "\n",
    "    with open(pickle_path + \".pickle\", \"wb\") as f:\n",
    "        pickle.dump(image_paths, f)\n",
    "    with open(save_path + \".npz\", \"wb\") as f:\n",
    "        np.savez_compressed(f, images=images, labels=labels)\n",
    "    return images, labels"
   ]
  },
  {
   "cell_type": "code",
   "execution_count": 4,
   "id": "d49b7da0",
   "metadata": {
    "ExecuteTime": {
     "end_time": "2021-10-27T18:23:51.018460Z",
     "start_time": "2021-10-27T18:23:44.509643Z"
    }
   },
   "outputs": [],
   "source": [
    "images, labels = preprocess(\"cifar/train/\", \"cifar/labels.txt\",\n",
    "                            \"cifar/train_dataset\", \"cifar/train_paths\")"
   ]
  },
  {
   "cell_type": "markdown",
   "id": "55e9a57e",
   "metadata": {},
   "source": [
    "## Model Definition"
   ]
  },
  {
   "cell_type": "code",
   "execution_count": 45,
   "id": "a1efc8c2",
   "metadata": {
    "ExecuteTime": {
     "end_time": "2021-10-27T18:36:14.676206Z",
     "start_time": "2021-10-27T18:36:14.521495Z"
    }
   },
   "outputs": [],
   "source": [
    "def conv_block(in_channels,\n",
    "               out_channels,\n",
    "               kernel_size,\n",
    "               pad=True,\n",
    "               max_pool=True,\n",
    "               batch_norm=True):\n",
    "    if pad:\n",
    "        padding = (kernel_size - 1) // 2\n",
    "    else:\n",
    "        padding = 0\n",
    "    conv = nn.Sequential(\n",
    "        nn.Conv2d(in_channels, out_channels, kernel_size, padding=padding),\n",
    "        nn.ReLU())\n",
    "    if max_pool:\n",
    "        conv.add_module(\"max_pool\", nn.MaxPool2d(2))\n",
    "    if batch_norm:\n",
    "        conv.add_module(\"batch_norm\", nn.BatchNorm2d(out_channels))\n",
    "    return conv\n",
    "\n",
    "\n",
    "def linear_block(in_features, out_features, final_layer=False):\n",
    "    block = nn.Sequential(nn.Linear(in_features, out_features))\n",
    "    if not final_layer:\n",
    "        block.add_module(\"dropout\", nn.Dropout(0.3))\n",
    "        block.add_module(\"activation\", nn.ReLU())\n",
    "    block.add_module(\"batch_norm\", nn.BatchNorm1d(out_features))\n",
    "    return block\n",
    "\n",
    "\n",
    "class ImageSearchModel(nn.Module):\n",
    "    def __init__(self):\n",
    "        super(ImageSearchModel, self).__init__()\n",
    "        self.cnn = nn.Sequential(\n",
    "            conv_block(3, 64, 5, max_pool=False),  # 64x32x32\n",
    "            conv_block(64, 64, 5),  # 64x16x16\n",
    "            conv_block(64, 128, 5, max_pool=False),  # 128x16x16\n",
    "            conv_block(128, 128, 5),  # 128x8x8\n",
    "            conv_block(128, 256, 5, max_pool=False),  # 256x8x8\n",
    "            conv_block(256, 256, 5),  # 256x4x4\n",
    "            conv_block(256, 512, 3, max_pool=False),  # 512x4x4\n",
    "            conv_block(512, 512, 3),  # 512x2x2\n",
    "            conv_block(512, 1024, 1, max_pool=False),  # 1024x2x2\n",
    "            conv_block(1024, 1024, 1),  # 1024x1x1\n",
    "            conv_block(1024, 2048, 1, max_pool=False)  # 2048x1x1\n",
    "        )\n",
    "        self.dense = nn.Sequential(linear_block(2048, 1024),\n",
    "                                   linear_block(1024, 512),\n",
    "                                   linear_block(512, 256),\n",
    "                                   linear_block(256, 128),\n",
    "                                   linear_block(128, 10, final_layer=True))\n",
    "\n",
    "    def get_cnn_features(self, image):\n",
    "        return self.cnn(image)\n",
    "\n",
    "    def get_dense_features(self, layer_num, image):\n",
    "        features = self.get_cnn_features(image).view(-1, 2048)\n",
    "        for i, layer in enumerate(self.dense):\n",
    "            if i + 1 == layer_num:\n",
    "                features = layer(features)\n",
    "                return torch.sigmoid(features)\n",
    "            else:\n",
    "                features = layer(features)\n",
    "        features = torch.sigmoid(features)\n",
    "        return features\n",
    "\n",
    "    def forward(self, image):\n",
    "        cnn_features = self.cnn(image)\n",
    "        flat = cnn_features.view(-1, 2048)\n",
    "        logits = self.dense(flat)\n",
    "        return logits\n",
    "\n",
    "\n",
    "model = ImageSearchModel()\n",
    "device = torch.device('cuda')\n",
    "model.to(device)"
   ]
  },
  {
   "cell_type": "markdown",
   "id": "88908e1d",
   "metadata": {
    "heading_collapsed": true
   },
   "source": [
    "## Training"
   ]
  },
  {
   "cell_type": "code",
   "execution_count": 15,
   "id": "05b9e20a",
   "metadata": {
    "ExecuteTime": {
     "end_time": "2021-10-26T03:00:38.462918Z",
     "start_time": "2021-10-26T03:00:38.446918Z"
    },
    "hidden": true
   },
   "outputs": [],
   "source": [
    "from torch.utils.data import Dataset, DataLoader, random_split\n",
    "\n",
    "\n",
    "class CIFAR10(Dataset):\n",
    "    def __init__(self, images, labels):\n",
    "        '''\n",
    "        Images: numpy array\n",
    "            Shape: (B, H, W, C)\n",
    "            Pytorch uses (B, C, H, W)\n",
    "        Labels: numpy array\n",
    "        '''\n",
    "        self.images = images\n",
    "        self.labels = labels\n",
    "        self.transform = T.Compose(\n",
    "            [T.AutoAugment(T.AutoAugmentPolicy.CIFAR10),\n",
    "             T.ToTensor()])\n",
    "\n",
    "    def __len__(self):\n",
    "        return self.images.shape[0]\n",
    "\n",
    "    def __getitem__(self, idx):\n",
    "        img, label = self.images[idx], self.labels[idx]\n",
    "        img = Image.fromarray(img.astype('uint8'))\n",
    "        tensor = self.transform(img)\n",
    "        return tensor, label\n",
    "\n",
    "\n",
    "training_data = CIFAR10(images, labels)\n",
    "train_size = len(training_data) * 8 // 10\n",
    "train_set, val_set = random_split(\n",
    "    training_data, [train_size, len(training_data) - train_size],\n",
    "    generator=torch.Generator().manual_seed(42))\n",
    "train_dataloader = DataLoader(train_set,\n",
    "                              batch_size=64,\n",
    "                              shuffle=True,\n",
    "                              pin_memory=True)\n",
    "val_dataloader = DataLoader(val_set, batch_size=128, pin_memory=True)"
   ]
  },
  {
   "cell_type": "code",
   "execution_count": 16,
   "id": "e3586570",
   "metadata": {
    "ExecuteTime": {
     "end_time": "2021-10-26T03:00:38.759705Z",
     "start_time": "2021-10-26T03:00:38.747707Z"
    },
    "hidden": true
   },
   "outputs": [],
   "source": [
    "def accuracy(logits, labels):\n",
    "    probs = nn.functional.softmax(logits, dim=1)\n",
    "    preds = torch.argmax(probs, dim=1)\n",
    "    acc = (labels == preds).sum() / labels.numel() * 100.0\n",
    "    return acc.item()"
   ]
  },
  {
   "cell_type": "code",
   "execution_count": 17,
   "id": "adab91c6",
   "metadata": {
    "ExecuteTime": {
     "end_time": "2021-10-26T03:00:39.259255Z",
     "start_time": "2021-10-26T03:00:39.238253Z"
    },
    "hidden": true
   },
   "outputs": [],
   "source": [
    "optimizer = torch.optim.Adam(model.parameters(), lr=3e-3, weight_decay=3e-6)\n",
    "\n",
    "def train(model, epochs, opt=optimizer):\n",
    "    train_losses = []\n",
    "    train_accuracies = []\n",
    "    val_losses = []\n",
    "    val_accuracies = []\n",
    "    previous_val_accuracy = 79.25\n",
    "    best_epoch = 0\n",
    "    for epoch in range(epochs):\n",
    "        train_loss = 0\n",
    "        current_train_accuracy = 0\n",
    "        model.train()\n",
    "        for data in tqdm(train_dataloader, desc=\"Training\", unit=\"batches\"):\n",
    "            images, labels = data\n",
    "            images, labels = images.to(\n",
    "                device=device, dtype=torch.float), labels.to(device=device,\n",
    "                                                             dtype=torch.float)\n",
    "\n",
    "            # zero the parameter gradients\n",
    "            opt.zero_grad()\n",
    "\n",
    "            outputs = model(images)\n",
    "            loss = F.cross_entropy(outputs, labels.long())\n",
    "            loss.backward()\n",
    "            torch.nn.utils.clip_grad_norm_(model.parameters(), 1)\n",
    "            optimizer.step()\n",
    "            train_loss += loss.item()\n",
    "            current_train_accuracy += accuracy(outputs, labels)\n",
    "        train_losses.append(train_loss)\n",
    "        mean_train_accuracy = current_train_accuracy / len(train_dataloader)\n",
    "        train_accuracies.append(mean_train_accuracy)\n",
    "        # zero the parameter gradients\n",
    "        opt.zero_grad()\n",
    "        val_loss = 0\n",
    "        current_val_accuracy = 0\n",
    "        model.eval()\n",
    "        for data in tqdm(val_dataloader, desc=\"Validation\", unit=\"batches\"):\n",
    "            images, labels = data\n",
    "            images, labels = images.to(\n",
    "                device=device, dtype=torch.float), labels.to(device=device,\n",
    "                                                             dtype=torch.float)\n",
    "            with torch.no_grad():\n",
    "                outputs = model(images)\n",
    "                loss = F.cross_entropy(outputs, labels.long())\n",
    "            val_loss += loss.item()\n",
    "            current_val_accuracy += accuracy(outputs, labels)\n",
    "        val_losses.append(val_loss)\n",
    "        mean_val_accuracy = current_val_accuracy / len(val_dataloader)\n",
    "        val_accuracies.append(mean_val_accuracy)\n",
    "        print(\n",
    "            f\"Epoch {epoch}. Train Loss: {train_loss:.2f}. Train Accuracy: {mean_train_accuracy:.2f}\"\n",
    "        )\n",
    "        print(\n",
    "            f\"\\t Val Loss: {val_loss:.2f}. Val Accuracy: {mean_val_accuracy:.2f}\"\n",
    "        )\n",
    "        if mean_val_accuracy > previous_val_accuracy:\n",
    "            print(f\"Epoch {epoch}: Best accuracy so far. Saving weights...\")\n",
    "            previous_val_accuracy = mean_val_accuracy\n",
    "            best_epoch = epoch\n",
    "            torch.save(model.state_dict(), \"classifier_full_change_dropout_position.pt\")\n",
    "    print(\"Best Epoch: {}\\t Best Accuracy: {:.4f}\".format(best_epoch, previous_val_accuracy))    \n",
    "\n",
    "    return train_losses, train_accuracies, val_losses, val_accuracies"
   ]
  },
  {
   "cell_type": "code",
   "execution_count": 18,
   "id": "4d70db8d",
   "metadata": {
    "ExecuteTime": {
     "end_time": "2021-10-26T03:00:39.835675Z",
     "start_time": "2021-10-26T03:00:39.801713Z"
    },
    "collapsed": true,
    "hidden": true
   },
   "outputs": [
    {
     "name": "stdout",
     "output_type": "stream",
     "text": [
      "----------------------------------------------------------------\n",
      "        Layer (type)               Output Shape         Param #\n",
      "================================================================\n",
      "            Conv2d-1           [-1, 64, 32, 32]           4,864\n",
      "              ReLU-2           [-1, 64, 32, 32]               0\n",
      "       BatchNorm2d-3           [-1, 64, 32, 32]             128\n",
      "            Conv2d-4           [-1, 64, 32, 32]         102,464\n",
      "              ReLU-5           [-1, 64, 32, 32]               0\n",
      "         MaxPool2d-6           [-1, 64, 16, 16]               0\n",
      "       BatchNorm2d-7           [-1, 64, 16, 16]             128\n",
      "            Conv2d-8          [-1, 128, 16, 16]         204,928\n",
      "              ReLU-9          [-1, 128, 16, 16]               0\n",
      "      BatchNorm2d-10          [-1, 128, 16, 16]             256\n",
      "           Conv2d-11          [-1, 128, 16, 16]         409,728\n",
      "             ReLU-12          [-1, 128, 16, 16]               0\n",
      "        MaxPool2d-13            [-1, 128, 8, 8]               0\n",
      "      BatchNorm2d-14            [-1, 128, 8, 8]             256\n",
      "           Conv2d-15            [-1, 256, 8, 8]         819,456\n",
      "             ReLU-16            [-1, 256, 8, 8]               0\n",
      "      BatchNorm2d-17            [-1, 256, 8, 8]             512\n",
      "           Conv2d-18            [-1, 256, 8, 8]       1,638,656\n",
      "             ReLU-19            [-1, 256, 8, 8]               0\n",
      "        MaxPool2d-20            [-1, 256, 4, 4]               0\n",
      "      BatchNorm2d-21            [-1, 256, 4, 4]             512\n",
      "           Conv2d-22            [-1, 512, 4, 4]       1,180,160\n",
      "             ReLU-23            [-1, 512, 4, 4]               0\n",
      "      BatchNorm2d-24            [-1, 512, 4, 4]           1,024\n",
      "           Conv2d-25            [-1, 512, 4, 4]       2,359,808\n",
      "             ReLU-26            [-1, 512, 4, 4]               0\n",
      "        MaxPool2d-27            [-1, 512, 2, 2]               0\n",
      "      BatchNorm2d-28            [-1, 512, 2, 2]           1,024\n",
      "           Conv2d-29           [-1, 1024, 2, 2]         525,312\n",
      "             ReLU-30           [-1, 1024, 2, 2]               0\n",
      "      BatchNorm2d-31           [-1, 1024, 2, 2]           2,048\n",
      "           Conv2d-32           [-1, 1024, 2, 2]       1,049,600\n",
      "             ReLU-33           [-1, 1024, 2, 2]               0\n",
      "        MaxPool2d-34           [-1, 1024, 1, 1]               0\n",
      "      BatchNorm2d-35           [-1, 1024, 1, 1]           2,048\n",
      "           Conv2d-36           [-1, 2048, 1, 1]       2,099,200\n",
      "             ReLU-37           [-1, 2048, 1, 1]               0\n",
      "      BatchNorm2d-38           [-1, 2048, 1, 1]           4,096\n",
      "           Linear-39                 [-1, 1024]       2,098,176\n",
      "          Dropout-40                 [-1, 1024]               0\n",
      "             ReLU-41                 [-1, 1024]               0\n",
      "      BatchNorm1d-42                 [-1, 1024]           2,048\n",
      "           Linear-43                  [-1, 512]         524,800\n",
      "          Dropout-44                  [-1, 512]               0\n",
      "             ReLU-45                  [-1, 512]               0\n",
      "      BatchNorm1d-46                  [-1, 512]           1,024\n",
      "           Linear-47                  [-1, 256]         131,328\n",
      "          Dropout-48                  [-1, 256]               0\n",
      "             ReLU-49                  [-1, 256]               0\n",
      "      BatchNorm1d-50                  [-1, 256]             512\n",
      "           Linear-51                  [-1, 128]          32,896\n",
      "          Dropout-52                  [-1, 128]               0\n",
      "             ReLU-53                  [-1, 128]               0\n",
      "      BatchNorm1d-54                  [-1, 128]             256\n",
      "           Linear-55                   [-1, 10]           1,290\n",
      "      BatchNorm1d-56                   [-1, 10]              20\n",
      "================================================================\n",
      "Total params: 13,198,558\n",
      "Trainable params: 13,198,558\n",
      "Non-trainable params: 0\n",
      "----------------------------------------------------------------\n",
      "Input size (MB): 0.01\n",
      "Forward/backward pass size (MB): 5.43\n",
      "Params size (MB): 50.35\n",
      "Estimated Total Size (MB): 55.79\n",
      "----------------------------------------------------------------\n"
     ]
    }
   ],
   "source": [
    "summary(model, (3, 32, 32))"
   ]
  },
  {
   "cell_type": "code",
   "execution_count": 19,
   "id": "523ed1c5",
   "metadata": {
    "ExecuteTime": {
     "end_time": "2021-10-26T05:56:47.781546Z",
     "start_time": "2021-10-26T03:00:40.175694Z"
    },
    "collapsed": true,
    "hidden": true
   },
   "outputs": [
    {
     "data": {
      "application/vnd.jupyter.widget-view+json": {
       "model_id": "399e4a06a8164e66a2a700a2916f7d00",
       "version_major": 2,
       "version_minor": 0
      },
      "text/plain": [
       "Training:   0%|          | 0/625 [00:00<?, ?batches/s]"
      ]
     },
     "metadata": {},
     "output_type": "display_data"
    },
    {
     "data": {
      "application/vnd.jupyter.widget-view+json": {
       "model_id": "351bf6e15a014604ac7c4e53cb685638",
       "version_major": 2,
       "version_minor": 0
      },
      "text/plain": [
       "Validation:   0%|          | 0/79 [00:00<?, ?batches/s]"
      ]
     },
     "metadata": {},
     "output_type": "display_data"
    },
    {
     "name": "stdout",
     "output_type": "stream",
     "text": [
      "Epoch 0. Train Loss: 1295.51. Train Accuracy: 20.40\n",
      "\t Val Loss: 163.68. Val Accuracy: 20.59\n"
     ]
    },
    {
     "data": {
      "application/vnd.jupyter.widget-view+json": {
       "model_id": "70e3f642e8bd43b283806e4e6b9d14e3",
       "version_major": 2,
       "version_minor": 0
      },
      "text/plain": [
       "Training:   0%|          | 0/625 [00:00<?, ?batches/s]"
      ]
     },
     "metadata": {},
     "output_type": "display_data"
    },
    {
     "data": {
      "application/vnd.jupyter.widget-view+json": {
       "model_id": "ade625d3cf354d62bdc7431f291c2a64",
       "version_major": 2,
       "version_minor": 0
      },
      "text/plain": [
       "Validation:   0%|          | 0/79 [00:00<?, ?batches/s]"
      ]
     },
     "metadata": {},
     "output_type": "display_data"
    },
    {
     "name": "stdout",
     "output_type": "stream",
     "text": [
      "Epoch 1. Train Loss: 1190.57. Train Accuracy: 27.39\n",
      "\t Val Loss: 142.00. Val Accuracy: 31.59\n"
     ]
    },
    {
     "data": {
      "application/vnd.jupyter.widget-view+json": {
       "model_id": "80135e1cc1304d5c858dee4fa32d7ab5",
       "version_major": 2,
       "version_minor": 0
      },
      "text/plain": [
       "Training:   0%|          | 0/625 [00:00<?, ?batches/s]"
      ]
     },
     "metadata": {},
     "output_type": "display_data"
    },
    {
     "data": {
      "application/vnd.jupyter.widget-view+json": {
       "model_id": "dea177fed0c648c2b1004c7b3a941214",
       "version_major": 2,
       "version_minor": 0
      },
      "text/plain": [
       "Validation:   0%|          | 0/79 [00:00<?, ?batches/s]"
      ]
     },
     "metadata": {},
     "output_type": "display_data"
    },
    {
     "name": "stdout",
     "output_type": "stream",
     "text": [
      "Epoch 2. Train Loss: 1086.21. Train Accuracy: 34.59\n",
      "\t Val Loss: 130.73. Val Accuracy: 36.70\n"
     ]
    },
    {
     "data": {
      "application/vnd.jupyter.widget-view+json": {
       "model_id": "1302441a83c14fcf8c6f7a85d29959e2",
       "version_major": 2,
       "version_minor": 0
      },
      "text/plain": [
       "Training:   0%|          | 0/625 [00:00<?, ?batches/s]"
      ]
     },
     "metadata": {},
     "output_type": "display_data"
    },
    {
     "data": {
      "application/vnd.jupyter.widget-view+json": {
       "model_id": "64c04e49ca1b40dd8318b260e524a0b3",
       "version_major": 2,
       "version_minor": 0
      },
      "text/plain": [
       "Validation:   0%|          | 0/79 [00:00<?, ?batches/s]"
      ]
     },
     "metadata": {},
     "output_type": "display_data"
    },
    {
     "name": "stdout",
     "output_type": "stream",
     "text": [
      "Epoch 3. Train Loss: 969.27. Train Accuracy: 42.72\n",
      "\t Val Loss: 114.25. Val Accuracy: 48.21\n"
     ]
    },
    {
     "data": {
      "application/vnd.jupyter.widget-view+json": {
       "model_id": "995b39e71fd54b849a4d11704c04caa1",
       "version_major": 2,
       "version_minor": 0
      },
      "text/plain": [
       "Training:   0%|          | 0/625 [00:00<?, ?batches/s]"
      ]
     },
     "metadata": {},
     "output_type": "display_data"
    },
    {
     "data": {
      "application/vnd.jupyter.widget-view+json": {
       "model_id": "5bc5545f283241d8b232944ee7efb828",
       "version_major": 2,
       "version_minor": 0
      },
      "text/plain": [
       "Validation:   0%|          | 0/79 [00:00<?, ?batches/s]"
      ]
     },
     "metadata": {},
     "output_type": "display_data"
    },
    {
     "name": "stdout",
     "output_type": "stream",
     "text": [
      "Epoch 4. Train Loss: 846.10. Train Accuracy: 52.45\n",
      "\t Val Loss: 95.07. Val Accuracy: 57.14\n"
     ]
    },
    {
     "data": {
      "application/vnd.jupyter.widget-view+json": {
       "model_id": "f95f51578ed545c192fe11c862209520",
       "version_major": 2,
       "version_minor": 0
      },
      "text/plain": [
       "Training:   0%|          | 0/625 [00:00<?, ?batches/s]"
      ]
     },
     "metadata": {},
     "output_type": "display_data"
    },
    {
     "data": {
      "application/vnd.jupyter.widget-view+json": {
       "model_id": "44642d9045134833a070d1bf68756243",
       "version_major": 2,
       "version_minor": 0
      },
      "text/plain": [
       "Validation:   0%|          | 0/79 [00:00<?, ?batches/s]"
      ]
     },
     "metadata": {},
     "output_type": "display_data"
    },
    {
     "name": "stdout",
     "output_type": "stream",
     "text": [
      "Epoch 5. Train Loss: 741.64. Train Accuracy: 59.32\n",
      "\t Val Loss: 89.09. Val Accuracy: 61.21\n"
     ]
    },
    {
     "data": {
      "application/vnd.jupyter.widget-view+json": {
       "model_id": "162a1ea8faa3495c8de36db081080a4f",
       "version_major": 2,
       "version_minor": 0
      },
      "text/plain": [
       "Training:   0%|          | 0/625 [00:00<?, ?batches/s]"
      ]
     },
     "metadata": {},
     "output_type": "display_data"
    },
    {
     "data": {
      "application/vnd.jupyter.widget-view+json": {
       "model_id": "9c668520688c4c5c8d9454eb2ce1c96b",
       "version_major": 2,
       "version_minor": 0
      },
      "text/plain": [
       "Validation:   0%|          | 0/79 [00:00<?, ?batches/s]"
      ]
     },
     "metadata": {},
     "output_type": "display_data"
    },
    {
     "name": "stdout",
     "output_type": "stream",
     "text": [
      "Epoch 6. Train Loss: 666.65. Train Accuracy: 64.08\n",
      "\t Val Loss: 75.00. Val Accuracy: 67.71\n"
     ]
    },
    {
     "data": {
      "application/vnd.jupyter.widget-view+json": {
       "model_id": "259a6d7699ca46e086bffc3e77b61449",
       "version_major": 2,
       "version_minor": 0
      },
      "text/plain": [
       "Training:   0%|          | 0/625 [00:00<?, ?batches/s]"
      ]
     },
     "metadata": {},
     "output_type": "display_data"
    },
    {
     "data": {
      "application/vnd.jupyter.widget-view+json": {
       "model_id": "fff1268bbf1e487087d036925c5d8476",
       "version_major": 2,
       "version_minor": 0
      },
      "text/plain": [
       "Validation:   0%|          | 0/79 [00:00<?, ?batches/s]"
      ]
     },
     "metadata": {},
     "output_type": "display_data"
    },
    {
     "name": "stdout",
     "output_type": "stream",
     "text": [
      "Epoch 7. Train Loss: 612.06. Train Accuracy: 67.90\n",
      "\t Val Loss: 70.67. Val Accuracy: 69.93\n"
     ]
    },
    {
     "data": {
      "application/vnd.jupyter.widget-view+json": {
       "model_id": "2786a30f2f8a48708d0ffd51abff0ac8",
       "version_major": 2,
       "version_minor": 0
      },
      "text/plain": [
       "Training:   0%|          | 0/625 [00:00<?, ?batches/s]"
      ]
     },
     "metadata": {},
     "output_type": "display_data"
    },
    {
     "data": {
      "application/vnd.jupyter.widget-view+json": {
       "model_id": "b3ed4b29165742c2966d5da3ea5d38b2",
       "version_major": 2,
       "version_minor": 0
      },
      "text/plain": [
       "Validation:   0%|          | 0/79 [00:00<?, ?batches/s]"
      ]
     },
     "metadata": {},
     "output_type": "display_data"
    },
    {
     "name": "stdout",
     "output_type": "stream",
     "text": [
      "Epoch 8. Train Loss: 556.74. Train Accuracy: 70.93\n",
      "\t Val Loss: 71.52. Val Accuracy: 70.18\n"
     ]
    },
    {
     "data": {
      "application/vnd.jupyter.widget-view+json": {
       "model_id": "479e6b931bb3402785d6bcaf9f3f0e6e",
       "version_major": 2,
       "version_minor": 0
      },
      "text/plain": [
       "Training:   0%|          | 0/625 [00:00<?, ?batches/s]"
      ]
     },
     "metadata": {},
     "output_type": "display_data"
    },
    {
     "data": {
      "application/vnd.jupyter.widget-view+json": {
       "model_id": "d2d129ae8a90464e80f90bead7c6a3ca",
       "version_major": 2,
       "version_minor": 0
      },
      "text/plain": [
       "Validation:   0%|          | 0/79 [00:00<?, ?batches/s]"
      ]
     },
     "metadata": {},
     "output_type": "display_data"
    },
    {
     "name": "stdout",
     "output_type": "stream",
     "text": [
      "Epoch 9. Train Loss: 521.98. Train Accuracy: 72.79\n",
      "\t Val Loss: 67.24. Val Accuracy: 71.84\n"
     ]
    },
    {
     "data": {
      "application/vnd.jupyter.widget-view+json": {
       "model_id": "974677ee30744c28b4e5fcc97ed13933",
       "version_major": 2,
       "version_minor": 0
      },
      "text/plain": [
       "Training:   0%|          | 0/625 [00:00<?, ?batches/s]"
      ]
     },
     "metadata": {},
     "output_type": "display_data"
    },
    {
     "data": {
      "application/vnd.jupyter.widget-view+json": {
       "model_id": "cbd453a03ef14894ba7f0171a439c9b0",
       "version_major": 2,
       "version_minor": 0
      },
      "text/plain": [
       "Validation:   0%|          | 0/79 [00:00<?, ?batches/s]"
      ]
     },
     "metadata": {},
     "output_type": "display_data"
    },
    {
     "name": "stdout",
     "output_type": "stream",
     "text": [
      "Epoch 10. Train Loss: 490.93. Train Accuracy: 74.61\n",
      "\t Val Loss: 63.14. Val Accuracy: 73.40\n"
     ]
    },
    {
     "data": {
      "application/vnd.jupyter.widget-view+json": {
       "model_id": "e1c57886b8d24155811b8a77f5ce3301",
       "version_major": 2,
       "version_minor": 0
      },
      "text/plain": [
       "Training:   0%|          | 0/625 [00:00<?, ?batches/s]"
      ]
     },
     "metadata": {},
     "output_type": "display_data"
    },
    {
     "data": {
      "application/vnd.jupyter.widget-view+json": {
       "model_id": "a85f77be4637432192a3f71d36fca6ae",
       "version_major": 2,
       "version_minor": 0
      },
      "text/plain": [
       "Validation:   0%|          | 0/79 [00:00<?, ?batches/s]"
      ]
     },
     "metadata": {},
     "output_type": "display_data"
    },
    {
     "name": "stdout",
     "output_type": "stream",
     "text": [
      "Epoch 11. Train Loss: 461.95. Train Accuracy: 76.33\n",
      "\t Val Loss: 132.90. Val Accuracy: 74.49\n"
     ]
    },
    {
     "data": {
      "application/vnd.jupyter.widget-view+json": {
       "model_id": "e6d5b18b52924b718f6ff98e75c3a830",
       "version_major": 2,
       "version_minor": 0
      },
      "text/plain": [
       "Training:   0%|          | 0/625 [00:00<?, ?batches/s]"
      ]
     },
     "metadata": {},
     "output_type": "display_data"
    },
    {
     "data": {
      "application/vnd.jupyter.widget-view+json": {
       "model_id": "7733cd717fa642dba54a8316ec3797b7",
       "version_major": 2,
       "version_minor": 0
      },
      "text/plain": [
       "Validation:   0%|          | 0/79 [00:00<?, ?batches/s]"
      ]
     },
     "metadata": {},
     "output_type": "display_data"
    },
    {
     "name": "stdout",
     "output_type": "stream",
     "text": [
      "Epoch 12. Train Loss: 437.98. Train Accuracy: 77.68\n",
      "\t Val Loss: 96.39. Val Accuracy: 73.30\n"
     ]
    },
    {
     "data": {
      "application/vnd.jupyter.widget-view+json": {
       "model_id": "680b2ed09be745929fd8b91aaff10147",
       "version_major": 2,
       "version_minor": 0
      },
      "text/plain": [
       "Training:   0%|          | 0/625 [00:00<?, ?batches/s]"
      ]
     },
     "metadata": {},
     "output_type": "display_data"
    },
    {
     "data": {
      "application/vnd.jupyter.widget-view+json": {
       "model_id": "6eb01f5bd8c5483192cb1eab59c439d0",
       "version_major": 2,
       "version_minor": 0
      },
      "text/plain": [
       "Validation:   0%|          | 0/79 [00:00<?, ?batches/s]"
      ]
     },
     "metadata": {},
     "output_type": "display_data"
    },
    {
     "name": "stdout",
     "output_type": "stream",
     "text": [
      "Epoch 13. Train Loss: 415.94. Train Accuracy: 78.94\n",
      "\t Val Loss: 58.99. Val Accuracy: 75.54\n"
     ]
    },
    {
     "data": {
      "application/vnd.jupyter.widget-view+json": {
       "model_id": "45d53eac593d4518983497a47e3a7feb",
       "version_major": 2,
       "version_minor": 0
      },
      "text/plain": [
       "Training:   0%|          | 0/625 [00:00<?, ?batches/s]"
      ]
     },
     "metadata": {},
     "output_type": "display_data"
    },
    {
     "data": {
      "application/vnd.jupyter.widget-view+json": {
       "model_id": "4fa90c1a02af45d38d5f15ea71e34bb0",
       "version_major": 2,
       "version_minor": 0
      },
      "text/plain": [
       "Validation:   0%|          | 0/79 [00:00<?, ?batches/s]"
      ]
     },
     "metadata": {},
     "output_type": "display_data"
    },
    {
     "name": "stdout",
     "output_type": "stream",
     "text": [
      "Epoch 14. Train Loss: 392.83. Train Accuracy: 80.03\n",
      "\t Val Loss: 84.05. Val Accuracy: 75.41\n"
     ]
    },
    {
     "data": {
      "application/vnd.jupyter.widget-view+json": {
       "model_id": "fe4c3473cf4248bea72f53b94735ae2f",
       "version_major": 2,
       "version_minor": 0
      },
      "text/plain": [
       "Training:   0%|          | 0/625 [00:00<?, ?batches/s]"
      ]
     },
     "metadata": {},
     "output_type": "display_data"
    },
    {
     "data": {
      "application/vnd.jupyter.widget-view+json": {
       "model_id": "431a7bc0041b44fa932816e286a76759",
       "version_major": 2,
       "version_minor": 0
      },
      "text/plain": [
       "Validation:   0%|          | 0/79 [00:00<?, ?batches/s]"
      ]
     },
     "metadata": {},
     "output_type": "display_data"
    },
    {
     "name": "stdout",
     "output_type": "stream",
     "text": [
      "Epoch 15. Train Loss: 378.38. Train Accuracy: 80.77\n",
      "\t Val Loss: 60.17. Val Accuracy: 75.19\n"
     ]
    },
    {
     "data": {
      "application/vnd.jupyter.widget-view+json": {
       "model_id": "1bf999bdd8184eab8077ca227d3a1e7a",
       "version_major": 2,
       "version_minor": 0
      },
      "text/plain": [
       "Training:   0%|          | 0/625 [00:00<?, ?batches/s]"
      ]
     },
     "metadata": {},
     "output_type": "display_data"
    },
    {
     "data": {
      "application/vnd.jupyter.widget-view+json": {
       "model_id": "d8bad56b0e444cc1b52051cded28514f",
       "version_major": 2,
       "version_minor": 0
      },
      "text/plain": [
       "Validation:   0%|          | 0/79 [00:00<?, ?batches/s]"
      ]
     },
     "metadata": {},
     "output_type": "display_data"
    },
    {
     "name": "stdout",
     "output_type": "stream",
     "text": [
      "Epoch 16. Train Loss: 364.68. Train Accuracy: 81.55\n",
      "\t Val Loss: 59.33. Val Accuracy: 76.79\n"
     ]
    },
    {
     "data": {
      "application/vnd.jupyter.widget-view+json": {
       "model_id": "e1c4dd5b238e403e89d10bd6101594d2",
       "version_major": 2,
       "version_minor": 0
      },
      "text/plain": [
       "Training:   0%|          | 0/625 [00:00<?, ?batches/s]"
      ]
     },
     "metadata": {},
     "output_type": "display_data"
    },
    {
     "data": {
      "application/vnd.jupyter.widget-view+json": {
       "model_id": "c214ec0a0a4843bbbd3fe6176f4f9d48",
       "version_major": 2,
       "version_minor": 0
      },
      "text/plain": [
       "Validation:   0%|          | 0/79 [00:00<?, ?batches/s]"
      ]
     },
     "metadata": {},
     "output_type": "display_data"
    },
    {
     "name": "stdout",
     "output_type": "stream",
     "text": [
      "Epoch 17. Train Loss: 349.16. Train Accuracy: 82.46\n",
      "\t Val Loss: 56.52. Val Accuracy: 76.75\n"
     ]
    },
    {
     "data": {
      "application/vnd.jupyter.widget-view+json": {
       "model_id": "942472a7bbae4d1d8854954c5dd2a381",
       "version_major": 2,
       "version_minor": 0
      },
      "text/plain": [
       "Training:   0%|          | 0/625 [00:00<?, ?batches/s]"
      ]
     },
     "metadata": {},
     "output_type": "display_data"
    },
    {
     "data": {
      "application/vnd.jupyter.widget-view+json": {
       "model_id": "4a6e634ac78f4437a48a1babf157846a",
       "version_major": 2,
       "version_minor": 0
      },
      "text/plain": [
       "Validation:   0%|          | 0/79 [00:00<?, ?batches/s]"
      ]
     },
     "metadata": {},
     "output_type": "display_data"
    },
    {
     "name": "stdout",
     "output_type": "stream",
     "text": [
      "Epoch 18. Train Loss: 333.79. Train Accuracy: 83.33\n",
      "\t Val Loss: 57.57. Val Accuracy: 76.55\n"
     ]
    },
    {
     "data": {
      "application/vnd.jupyter.widget-view+json": {
       "model_id": "d3e7f10b0df44dd287e2d90e40977560",
       "version_major": 2,
       "version_minor": 0
      },
      "text/plain": [
       "Training:   0%|          | 0/625 [00:00<?, ?batches/s]"
      ]
     },
     "metadata": {},
     "output_type": "display_data"
    },
    {
     "data": {
      "application/vnd.jupyter.widget-view+json": {
       "model_id": "1bd1516ec8d04e80bdeb3c75f626fc5b",
       "version_major": 2,
       "version_minor": 0
      },
      "text/plain": [
       "Validation:   0%|          | 0/79 [00:00<?, ?batches/s]"
      ]
     },
     "metadata": {},
     "output_type": "display_data"
    },
    {
     "name": "stdout",
     "output_type": "stream",
     "text": [
      "Epoch 19. Train Loss: 321.98. Train Accuracy: 84.00\n",
      "\t Val Loss: 57.29. Val Accuracy: 76.45\n"
     ]
    },
    {
     "data": {
      "application/vnd.jupyter.widget-view+json": {
       "model_id": "2eea1132b31d4b179a09666434a9b7c8",
       "version_major": 2,
       "version_minor": 0
      },
      "text/plain": [
       "Training:   0%|          | 0/625 [00:00<?, ?batches/s]"
      ]
     },
     "metadata": {},
     "output_type": "display_data"
    },
    {
     "data": {
      "application/vnd.jupyter.widget-view+json": {
       "model_id": "9608f4d6f9dd4cd7bd0add4702392d4b",
       "version_major": 2,
       "version_minor": 0
      },
      "text/plain": [
       "Validation:   0%|          | 0/79 [00:00<?, ?batches/s]"
      ]
     },
     "metadata": {},
     "output_type": "display_data"
    },
    {
     "name": "stdout",
     "output_type": "stream",
     "text": [
      "Epoch 20. Train Loss: 310.35. Train Accuracy: 84.67\n",
      "\t Val Loss: 56.31. Val Accuracy: 77.11\n"
     ]
    },
    {
     "data": {
      "application/vnd.jupyter.widget-view+json": {
       "model_id": "3a1ad98144fb42c6afe23f7bffab0ecd",
       "version_major": 2,
       "version_minor": 0
      },
      "text/plain": [
       "Training:   0%|          | 0/625 [00:00<?, ?batches/s]"
      ]
     },
     "metadata": {},
     "output_type": "display_data"
    },
    {
     "data": {
      "application/vnd.jupyter.widget-view+json": {
       "model_id": "61069bce9fda4373873f0d609364e73a",
       "version_major": 2,
       "version_minor": 0
      },
      "text/plain": [
       "Validation:   0%|          | 0/79 [00:00<?, ?batches/s]"
      ]
     },
     "metadata": {},
     "output_type": "display_data"
    },
    {
     "name": "stdout",
     "output_type": "stream",
     "text": [
      "Epoch 21. Train Loss: 303.97. Train Accuracy: 85.19\n",
      "\t Val Loss: 55.83. Val Accuracy: 77.02\n"
     ]
    },
    {
     "data": {
      "application/vnd.jupyter.widget-view+json": {
       "model_id": "57172c98125f4e8f8abff28c3109031d",
       "version_major": 2,
       "version_minor": 0
      },
      "text/plain": [
       "Training:   0%|          | 0/625 [00:00<?, ?batches/s]"
      ]
     },
     "metadata": {},
     "output_type": "display_data"
    },
    {
     "data": {
      "application/vnd.jupyter.widget-view+json": {
       "model_id": "feaf825d51df4ed58745f4473ca42f39",
       "version_major": 2,
       "version_minor": 0
      },
      "text/plain": [
       "Validation:   0%|          | 0/79 [00:00<?, ?batches/s]"
      ]
     },
     "metadata": {},
     "output_type": "display_data"
    },
    {
     "name": "stdout",
     "output_type": "stream",
     "text": [
      "Epoch 22. Train Loss: 293.54. Train Accuracy: 85.53\n",
      "\t Val Loss: 58.86. Val Accuracy: 77.17\n"
     ]
    },
    {
     "data": {
      "application/vnd.jupyter.widget-view+json": {
       "model_id": "13d703e264944e7cb413f11e77ed4733",
       "version_major": 2,
       "version_minor": 0
      },
      "text/plain": [
       "Training:   0%|          | 0/625 [00:00<?, ?batches/s]"
      ]
     },
     "metadata": {},
     "output_type": "display_data"
    },
    {
     "data": {
      "application/vnd.jupyter.widget-view+json": {
       "model_id": "109d25ab52fa432087ec09ccf50fa659",
       "version_major": 2,
       "version_minor": 0
      },
      "text/plain": [
       "Validation:   0%|          | 0/79 [00:00<?, ?batches/s]"
      ]
     },
     "metadata": {},
     "output_type": "display_data"
    },
    {
     "name": "stdout",
     "output_type": "stream",
     "text": [
      "Epoch 23. Train Loss: 286.86. Train Accuracy: 85.83\n",
      "\t Val Loss: 55.35. Val Accuracy: 77.74\n"
     ]
    },
    {
     "data": {
      "application/vnd.jupyter.widget-view+json": {
       "model_id": "6aa0c58d6ec2454f85aeb6f8faa53359",
       "version_major": 2,
       "version_minor": 0
      },
      "text/plain": [
       "Training:   0%|          | 0/625 [00:00<?, ?batches/s]"
      ]
     },
     "metadata": {},
     "output_type": "display_data"
    },
    {
     "data": {
      "application/vnd.jupyter.widget-view+json": {
       "model_id": "66308692c8ea46cd925a626b868c687a",
       "version_major": 2,
       "version_minor": 0
      },
      "text/plain": [
       "Validation:   0%|          | 0/79 [00:00<?, ?batches/s]"
      ]
     },
     "metadata": {},
     "output_type": "display_data"
    },
    {
     "name": "stdout",
     "output_type": "stream",
     "text": [
      "Epoch 24. Train Loss: 277.99. Train Accuracy: 86.26\n",
      "\t Val Loss: 56.19. Val Accuracy: 77.68\n"
     ]
    },
    {
     "data": {
      "application/vnd.jupyter.widget-view+json": {
       "model_id": "f4792cc649954c46aa4a502290a005a2",
       "version_major": 2,
       "version_minor": 0
      },
      "text/plain": [
       "Training:   0%|          | 0/625 [00:00<?, ?batches/s]"
      ]
     },
     "metadata": {},
     "output_type": "display_data"
    },
    {
     "data": {
      "application/vnd.jupyter.widget-view+json": {
       "model_id": "3972d912aadd4ffb8502cd5a1032f718",
       "version_major": 2,
       "version_minor": 0
      },
      "text/plain": [
       "Validation:   0%|          | 0/79 [00:00<?, ?batches/s]"
      ]
     },
     "metadata": {},
     "output_type": "display_data"
    },
    {
     "name": "stdout",
     "output_type": "stream",
     "text": [
      "Epoch 25. Train Loss: 273.72. Train Accuracy: 86.67\n",
      "\t Val Loss: 61.52. Val Accuracy: 77.47\n"
     ]
    },
    {
     "data": {
      "application/vnd.jupyter.widget-view+json": {
       "model_id": "2d4a0059d42241ffadce77224d332572",
       "version_major": 2,
       "version_minor": 0
      },
      "text/plain": [
       "Training:   0%|          | 0/625 [00:00<?, ?batches/s]"
      ]
     },
     "metadata": {},
     "output_type": "display_data"
    },
    {
     "data": {
      "application/vnd.jupyter.widget-view+json": {
       "model_id": "ce1677e13f404b379bc912a054b4642f",
       "version_major": 2,
       "version_minor": 0
      },
      "text/plain": [
       "Validation:   0%|          | 0/79 [00:00<?, ?batches/s]"
      ]
     },
     "metadata": {},
     "output_type": "display_data"
    },
    {
     "name": "stdout",
     "output_type": "stream",
     "text": [
      "Epoch 26. Train Loss: 270.87. Train Accuracy: 86.85\n",
      "\t Val Loss: 58.45. Val Accuracy: 77.00\n"
     ]
    },
    {
     "data": {
      "application/vnd.jupyter.widget-view+json": {
       "model_id": "632c9cbcca384c13955a2a36d6a6c024",
       "version_major": 2,
       "version_minor": 0
      },
      "text/plain": [
       "Training:   0%|          | 0/625 [00:00<?, ?batches/s]"
      ]
     },
     "metadata": {},
     "output_type": "display_data"
    },
    {
     "data": {
      "application/vnd.jupyter.widget-view+json": {
       "model_id": "b46665e2dbee42f7b242926fc7f1fc60",
       "version_major": 2,
       "version_minor": 0
      },
      "text/plain": [
       "Validation:   0%|          | 0/79 [00:00<?, ?batches/s]"
      ]
     },
     "metadata": {},
     "output_type": "display_data"
    },
    {
     "name": "stdout",
     "output_type": "stream",
     "text": [
      "Epoch 27. Train Loss: 257.59. Train Accuracy: 87.47\n",
      "\t Val Loss: 56.30. Val Accuracy: 77.83\n"
     ]
    },
    {
     "data": {
      "application/vnd.jupyter.widget-view+json": {
       "model_id": "409e91a07dba4d198996dad7cdbe9441",
       "version_major": 2,
       "version_minor": 0
      },
      "text/plain": [
       "Training:   0%|          | 0/625 [00:00<?, ?batches/s]"
      ]
     },
     "metadata": {},
     "output_type": "display_data"
    },
    {
     "data": {
      "application/vnd.jupyter.widget-view+json": {
       "model_id": "82523b44e4c74773b34e6692f5398fd0",
       "version_major": 2,
       "version_minor": 0
      },
      "text/plain": [
       "Validation:   0%|          | 0/79 [00:00<?, ?batches/s]"
      ]
     },
     "metadata": {},
     "output_type": "display_data"
    },
    {
     "name": "stdout",
     "output_type": "stream",
     "text": [
      "Epoch 28. Train Loss: 255.83. Train Accuracy: 87.64\n",
      "\t Val Loss: 57.19. Val Accuracy: 77.57\n"
     ]
    },
    {
     "data": {
      "application/vnd.jupyter.widget-view+json": {
       "model_id": "d4b21788d8214979b55e2bcd56dd1349",
       "version_major": 2,
       "version_minor": 0
      },
      "text/plain": [
       "Training:   0%|          | 0/625 [00:00<?, ?batches/s]"
      ]
     },
     "metadata": {},
     "output_type": "display_data"
    },
    {
     "data": {
      "application/vnd.jupyter.widget-view+json": {
       "model_id": "9b19cc27704d4158983c8d6527d6e61f",
       "version_major": 2,
       "version_minor": 0
      },
      "text/plain": [
       "Validation:   0%|          | 0/79 [00:00<?, ?batches/s]"
      ]
     },
     "metadata": {},
     "output_type": "display_data"
    },
    {
     "name": "stdout",
     "output_type": "stream",
     "text": [
      "Epoch 29. Train Loss: 253.35. Train Accuracy: 87.69\n",
      "\t Val Loss: 56.78. Val Accuracy: 78.44\n"
     ]
    },
    {
     "data": {
      "application/vnd.jupyter.widget-view+json": {
       "model_id": "d2eea5edb5c14c25844e0a6fbeadd1f9",
       "version_major": 2,
       "version_minor": 0
      },
      "text/plain": [
       "Training:   0%|          | 0/625 [00:00<?, ?batches/s]"
      ]
     },
     "metadata": {},
     "output_type": "display_data"
    },
    {
     "data": {
      "application/vnd.jupyter.widget-view+json": {
       "model_id": "5cc74c91006b4a70961601a7086ffb52",
       "version_major": 2,
       "version_minor": 0
      },
      "text/plain": [
       "Validation:   0%|          | 0/79 [00:00<?, ?batches/s]"
      ]
     },
     "metadata": {},
     "output_type": "display_data"
    },
    {
     "name": "stdout",
     "output_type": "stream",
     "text": [
      "Epoch 30. Train Loss: 247.20. Train Accuracy: 87.85\n",
      "\t Val Loss: 56.85. Val Accuracy: 77.50\n"
     ]
    },
    {
     "data": {
      "application/vnd.jupyter.widget-view+json": {
       "model_id": "c7138bdcd23041ba92e320130f397820",
       "version_major": 2,
       "version_minor": 0
      },
      "text/plain": [
       "Training:   0%|          | 0/625 [00:00<?, ?batches/s]"
      ]
     },
     "metadata": {},
     "output_type": "display_data"
    },
    {
     "data": {
      "application/vnd.jupyter.widget-view+json": {
       "model_id": "9d8679ee16aa43709e47f6043638dd7c",
       "version_major": 2,
       "version_minor": 0
      },
      "text/plain": [
       "Validation:   0%|          | 0/79 [00:00<?, ?batches/s]"
      ]
     },
     "metadata": {},
     "output_type": "display_data"
    },
    {
     "name": "stdout",
     "output_type": "stream",
     "text": [
      "Epoch 31. Train Loss: 236.72. Train Accuracy: 88.54\n",
      "\t Val Loss: 57.15. Val Accuracy: 78.36\n"
     ]
    },
    {
     "data": {
      "application/vnd.jupyter.widget-view+json": {
       "model_id": "33dbf276e3dd4e3b9efaac7a300b5aac",
       "version_major": 2,
       "version_minor": 0
      },
      "text/plain": [
       "Training:   0%|          | 0/625 [00:00<?, ?batches/s]"
      ]
     },
     "metadata": {},
     "output_type": "display_data"
    },
    {
     "data": {
      "application/vnd.jupyter.widget-view+json": {
       "model_id": "7811457cc01b4e6b9abc13cc64385eb2",
       "version_major": 2,
       "version_minor": 0
      },
      "text/plain": [
       "Validation:   0%|          | 0/79 [00:00<?, ?batches/s]"
      ]
     },
     "metadata": {},
     "output_type": "display_data"
    },
    {
     "name": "stdout",
     "output_type": "stream",
     "text": [
      "Epoch 32. Train Loss: 240.50. Train Accuracy: 88.28\n",
      "\t Val Loss: 59.06. Val Accuracy: 77.35\n"
     ]
    },
    {
     "data": {
      "application/vnd.jupyter.widget-view+json": {
       "model_id": "5c6f86d39cb24693bec85133a0821caf",
       "version_major": 2,
       "version_minor": 0
      },
      "text/plain": [
       "Training:   0%|          | 0/625 [00:00<?, ?batches/s]"
      ]
     },
     "metadata": {},
     "output_type": "display_data"
    },
    {
     "data": {
      "application/vnd.jupyter.widget-view+json": {
       "model_id": "76b0c94bd17446daab87ca0df2be8cbe",
       "version_major": 2,
       "version_minor": 0
      },
      "text/plain": [
       "Validation:   0%|          | 0/79 [00:00<?, ?batches/s]"
      ]
     },
     "metadata": {},
     "output_type": "display_data"
    },
    {
     "name": "stdout",
     "output_type": "stream",
     "text": [
      "Epoch 33. Train Loss: 243.60. Train Accuracy: 88.28\n",
      "\t Val Loss: 55.39. Val Accuracy: 78.35\n"
     ]
    },
    {
     "data": {
      "application/vnd.jupyter.widget-view+json": {
       "model_id": "03512a59677b44ada6af47d38939953f",
       "version_major": 2,
       "version_minor": 0
      },
      "text/plain": [
       "Training:   0%|          | 0/625 [00:00<?, ?batches/s]"
      ]
     },
     "metadata": {},
     "output_type": "display_data"
    },
    {
     "data": {
      "application/vnd.jupyter.widget-view+json": {
       "model_id": "23728dc4220148e28e60b22d2984944f",
       "version_major": 2,
       "version_minor": 0
      },
      "text/plain": [
       "Validation:   0%|          | 0/79 [00:00<?, ?batches/s]"
      ]
     },
     "metadata": {},
     "output_type": "display_data"
    },
    {
     "name": "stdout",
     "output_type": "stream",
     "text": [
      "Epoch 34. Train Loss: 230.68. Train Accuracy: 88.98\n",
      "\t Val Loss: 57.82. Val Accuracy: 78.27\n"
     ]
    },
    {
     "data": {
      "application/vnd.jupyter.widget-view+json": {
       "model_id": "56cc4526e78d4ddc889f1ececaa7517c",
       "version_major": 2,
       "version_minor": 0
      },
      "text/plain": [
       "Training:   0%|          | 0/625 [00:00<?, ?batches/s]"
      ]
     },
     "metadata": {},
     "output_type": "display_data"
    },
    {
     "data": {
      "application/vnd.jupyter.widget-view+json": {
       "model_id": "1cc5aeacfd2c4b0b978d59cd8d4ece07",
       "version_major": 2,
       "version_minor": 0
      },
      "text/plain": [
       "Validation:   0%|          | 0/79 [00:00<?, ?batches/s]"
      ]
     },
     "metadata": {},
     "output_type": "display_data"
    },
    {
     "name": "stdout",
     "output_type": "stream",
     "text": [
      "Epoch 35. Train Loss: 231.36. Train Accuracy: 88.81\n",
      "\t Val Loss: 58.06. Val Accuracy: 77.81\n"
     ]
    },
    {
     "data": {
      "application/vnd.jupyter.widget-view+json": {
       "model_id": "398d4b24cca9406192ea05f30c00d751",
       "version_major": 2,
       "version_minor": 0
      },
      "text/plain": [
       "Training:   0%|          | 0/625 [00:00<?, ?batches/s]"
      ]
     },
     "metadata": {},
     "output_type": "display_data"
    },
    {
     "data": {
      "application/vnd.jupyter.widget-view+json": {
       "model_id": "814ec4f7f1244015afa7f63ca418288d",
       "version_major": 2,
       "version_minor": 0
      },
      "text/plain": [
       "Validation:   0%|          | 0/79 [00:00<?, ?batches/s]"
      ]
     },
     "metadata": {},
     "output_type": "display_data"
    },
    {
     "name": "stdout",
     "output_type": "stream",
     "text": [
      "Epoch 36. Train Loss: 221.55. Train Accuracy: 89.42\n",
      "\t Val Loss: 54.61. Val Accuracy: 78.10\n"
     ]
    },
    {
     "data": {
      "application/vnd.jupyter.widget-view+json": {
       "model_id": "43891dba60884dd3995f18f9fe2d20b4",
       "version_major": 2,
       "version_minor": 0
      },
      "text/plain": [
       "Training:   0%|          | 0/625 [00:00<?, ?batches/s]"
      ]
     },
     "metadata": {},
     "output_type": "display_data"
    },
    {
     "data": {
      "application/vnd.jupyter.widget-view+json": {
       "model_id": "c76615c2f6ef4b4f8044380afe402b98",
       "version_major": 2,
       "version_minor": 0
      },
      "text/plain": [
       "Validation:   0%|          | 0/79 [00:00<?, ?batches/s]"
      ]
     },
     "metadata": {},
     "output_type": "display_data"
    },
    {
     "name": "stdout",
     "output_type": "stream",
     "text": [
      "Epoch 37. Train Loss: 224.93. Train Accuracy: 89.22\n",
      "\t Val Loss: 55.34. Val Accuracy: 78.22\n"
     ]
    },
    {
     "data": {
      "application/vnd.jupyter.widget-view+json": {
       "model_id": "73e0acc9e3f245d69c40a2eb0104d5f6",
       "version_major": 2,
       "version_minor": 0
      },
      "text/plain": [
       "Training:   0%|          | 0/625 [00:00<?, ?batches/s]"
      ]
     },
     "metadata": {},
     "output_type": "display_data"
    },
    {
     "data": {
      "application/vnd.jupyter.widget-view+json": {
       "model_id": "67610d9c57fe40c9a7912e6f7ddb117b",
       "version_major": 2,
       "version_minor": 0
      },
      "text/plain": [
       "Validation:   0%|          | 0/79 [00:00<?, ?batches/s]"
      ]
     },
     "metadata": {},
     "output_type": "display_data"
    },
    {
     "name": "stdout",
     "output_type": "stream",
     "text": [
      "Epoch 38. Train Loss: 216.49. Train Accuracy: 89.55\n",
      "\t Val Loss: 55.08. Val Accuracy: 78.87\n"
     ]
    },
    {
     "data": {
      "application/vnd.jupyter.widget-view+json": {
       "model_id": "ba2e55ad6bbe4b41ac3c83cc9860e042",
       "version_major": 2,
       "version_minor": 0
      },
      "text/plain": [
       "Training:   0%|          | 0/625 [00:00<?, ?batches/s]"
      ]
     },
     "metadata": {},
     "output_type": "display_data"
    },
    {
     "data": {
      "application/vnd.jupyter.widget-view+json": {
       "model_id": "2bba76f5aea642ecb47a9a5f9827d967",
       "version_major": 2,
       "version_minor": 0
      },
      "text/plain": [
       "Validation:   0%|          | 0/79 [00:00<?, ?batches/s]"
      ]
     },
     "metadata": {},
     "output_type": "display_data"
    },
    {
     "name": "stdout",
     "output_type": "stream",
     "text": [
      "Epoch 39. Train Loss: 219.43. Train Accuracy: 89.25\n",
      "\t Val Loss: 53.61. Val Accuracy: 79.06\n"
     ]
    },
    {
     "data": {
      "application/vnd.jupyter.widget-view+json": {
       "model_id": "0f9d49bfca0a4d97a627337ac5d12b47",
       "version_major": 2,
       "version_minor": 0
      },
      "text/plain": [
       "Training:   0%|          | 0/625 [00:00<?, ?batches/s]"
      ]
     },
     "metadata": {},
     "output_type": "display_data"
    },
    {
     "data": {
      "application/vnd.jupyter.widget-view+json": {
       "model_id": "881568c093fb457992f81e0453e1b813",
       "version_major": 2,
       "version_minor": 0
      },
      "text/plain": [
       "Validation:   0%|          | 0/79 [00:00<?, ?batches/s]"
      ]
     },
     "metadata": {},
     "output_type": "display_data"
    },
    {
     "name": "stdout",
     "output_type": "stream",
     "text": [
      "Epoch 40. Train Loss: 210.85. Train Accuracy: 89.80\n",
      "\t Val Loss: 56.33. Val Accuracy: 77.99\n"
     ]
    },
    {
     "data": {
      "application/vnd.jupyter.widget-view+json": {
       "model_id": "ad5fc1e57dc7418e936c82c40e1ab4c1",
       "version_major": 2,
       "version_minor": 0
      },
      "text/plain": [
       "Training:   0%|          | 0/625 [00:00<?, ?batches/s]"
      ]
     },
     "metadata": {},
     "output_type": "display_data"
    },
    {
     "data": {
      "application/vnd.jupyter.widget-view+json": {
       "model_id": "55d4f922d968400e994258dfea243579",
       "version_major": 2,
       "version_minor": 0
      },
      "text/plain": [
       "Validation:   0%|          | 0/79 [00:00<?, ?batches/s]"
      ]
     },
     "metadata": {},
     "output_type": "display_data"
    },
    {
     "name": "stdout",
     "output_type": "stream",
     "text": [
      "Epoch 41. Train Loss: 213.81. Train Accuracy: 89.77\n",
      "\t Val Loss: 57.37. Val Accuracy: 77.82\n"
     ]
    },
    {
     "data": {
      "application/vnd.jupyter.widget-view+json": {
       "model_id": "68115730cd714068b82fa278f62d30e0",
       "version_major": 2,
       "version_minor": 0
      },
      "text/plain": [
       "Training:   0%|          | 0/625 [00:00<?, ?batches/s]"
      ]
     },
     "metadata": {},
     "output_type": "display_data"
    },
    {
     "data": {
      "application/vnd.jupyter.widget-view+json": {
       "model_id": "20e1bcced982444d80ee247f0089a6ef",
       "version_major": 2,
       "version_minor": 0
      },
      "text/plain": [
       "Validation:   0%|          | 0/79 [00:00<?, ?batches/s]"
      ]
     },
     "metadata": {},
     "output_type": "display_data"
    },
    {
     "name": "stdout",
     "output_type": "stream",
     "text": [
      "Epoch 42. Train Loss: 215.76. Train Accuracy: 89.64\n",
      "\t Val Loss: 57.52. Val Accuracy: 77.64\n"
     ]
    },
    {
     "data": {
      "application/vnd.jupyter.widget-view+json": {
       "model_id": "da8a773d859144108fc04950db8b98a3",
       "version_major": 2,
       "version_minor": 0
      },
      "text/plain": [
       "Training:   0%|          | 0/625 [00:00<?, ?batches/s]"
      ]
     },
     "metadata": {},
     "output_type": "display_data"
    },
    {
     "data": {
      "application/vnd.jupyter.widget-view+json": {
       "model_id": "cadc32dcbea748c1bb8812b19fdd4413",
       "version_major": 2,
       "version_minor": 0
      },
      "text/plain": [
       "Validation:   0%|          | 0/79 [00:00<?, ?batches/s]"
      ]
     },
     "metadata": {},
     "output_type": "display_data"
    },
    {
     "name": "stdout",
     "output_type": "stream",
     "text": [
      "Epoch 43. Train Loss: 207.30. Train Accuracy: 90.09\n",
      "\t Val Loss: 56.69. Val Accuracy: 78.57\n"
     ]
    },
    {
     "data": {
      "application/vnd.jupyter.widget-view+json": {
       "model_id": "9c67b992b08640b1a2842230f9409ced",
       "version_major": 2,
       "version_minor": 0
      },
      "text/plain": [
       "Training:   0%|          | 0/625 [00:00<?, ?batches/s]"
      ]
     },
     "metadata": {},
     "output_type": "display_data"
    },
    {
     "data": {
      "application/vnd.jupyter.widget-view+json": {
       "model_id": "7551798435fe48cdb613f8705fafc473",
       "version_major": 2,
       "version_minor": 0
      },
      "text/plain": [
       "Validation:   0%|          | 0/79 [00:00<?, ?batches/s]"
      ]
     },
     "metadata": {},
     "output_type": "display_data"
    },
    {
     "name": "stdout",
     "output_type": "stream",
     "text": [
      "Epoch 44. Train Loss: 207.33. Train Accuracy: 89.99\n",
      "\t Val Loss: 55.86. Val Accuracy: 78.96\n"
     ]
    },
    {
     "data": {
      "application/vnd.jupyter.widget-view+json": {
       "model_id": "96ab200eb5ff49b087d00ebf1fdc4783",
       "version_major": 2,
       "version_minor": 0
      },
      "text/plain": [
       "Training:   0%|          | 0/625 [00:00<?, ?batches/s]"
      ]
     },
     "metadata": {},
     "output_type": "display_data"
    },
    {
     "data": {
      "application/vnd.jupyter.widget-view+json": {
       "model_id": "442ce8285175473f85d783f95274778c",
       "version_major": 2,
       "version_minor": 0
      },
      "text/plain": [
       "Validation:   0%|          | 0/79 [00:00<?, ?batches/s]"
      ]
     },
     "metadata": {},
     "output_type": "display_data"
    },
    {
     "name": "stdout",
     "output_type": "stream",
     "text": [
      "Epoch 45. Train Loss: 205.10. Train Accuracy: 90.15\n",
      "\t Val Loss: 55.86. Val Accuracy: 78.89\n"
     ]
    },
    {
     "data": {
      "application/vnd.jupyter.widget-view+json": {
       "model_id": "368666c10d174f4aa285ff0f6d623c8a",
       "version_major": 2,
       "version_minor": 0
      },
      "text/plain": [
       "Training:   0%|          | 0/625 [00:00<?, ?batches/s]"
      ]
     },
     "metadata": {},
     "output_type": "display_data"
    },
    {
     "data": {
      "application/vnd.jupyter.widget-view+json": {
       "model_id": "3ded2da4c71942e39ec708087ac4bb0d",
       "version_major": 2,
       "version_minor": 0
      },
      "text/plain": [
       "Validation:   0%|          | 0/79 [00:00<?, ?batches/s]"
      ]
     },
     "metadata": {},
     "output_type": "display_data"
    },
    {
     "name": "stdout",
     "output_type": "stream",
     "text": [
      "Epoch 46. Train Loss: 206.08. Train Accuracy: 90.12\n",
      "\t Val Loss: 54.55. Val Accuracy: 78.66\n"
     ]
    },
    {
     "data": {
      "application/vnd.jupyter.widget-view+json": {
       "model_id": "ce56f3a9473f469bb35c8a75e9f01635",
       "version_major": 2,
       "version_minor": 0
      },
      "text/plain": [
       "Training:   0%|          | 0/625 [00:00<?, ?batches/s]"
      ]
     },
     "metadata": {},
     "output_type": "display_data"
    },
    {
     "data": {
      "application/vnd.jupyter.widget-view+json": {
       "model_id": "1190055bcdad46778858e71cb6f019cb",
       "version_major": 2,
       "version_minor": 0
      },
      "text/plain": [
       "Validation:   0%|          | 0/79 [00:00<?, ?batches/s]"
      ]
     },
     "metadata": {},
     "output_type": "display_data"
    },
    {
     "name": "stdout",
     "output_type": "stream",
     "text": [
      "Epoch 47. Train Loss: 200.45. Train Accuracy: 90.34\n",
      "\t Val Loss: 56.21. Val Accuracy: 78.50\n"
     ]
    },
    {
     "data": {
      "application/vnd.jupyter.widget-view+json": {
       "model_id": "2c39c45a093344c1adcb2f3761fe4340",
       "version_major": 2,
       "version_minor": 0
      },
      "text/plain": [
       "Training:   0%|          | 0/625 [00:00<?, ?batches/s]"
      ]
     },
     "metadata": {},
     "output_type": "display_data"
    },
    {
     "data": {
      "application/vnd.jupyter.widget-view+json": {
       "model_id": "ada662853d874807846556da72f4cd6b",
       "version_major": 2,
       "version_minor": 0
      },
      "text/plain": [
       "Validation:   0%|          | 0/79 [00:00<?, ?batches/s]"
      ]
     },
     "metadata": {},
     "output_type": "display_data"
    },
    {
     "name": "stdout",
     "output_type": "stream",
     "text": [
      "Epoch 48. Train Loss: 205.62. Train Accuracy: 90.19\n",
      "\t Val Loss: 56.32. Val Accuracy: 79.20\n"
     ]
    },
    {
     "data": {
      "application/vnd.jupyter.widget-view+json": {
       "model_id": "d8400020910c47e191d81128e2366e81",
       "version_major": 2,
       "version_minor": 0
      },
      "text/plain": [
       "Training:   0%|          | 0/625 [00:00<?, ?batches/s]"
      ]
     },
     "metadata": {},
     "output_type": "display_data"
    },
    {
     "data": {
      "application/vnd.jupyter.widget-view+json": {
       "model_id": "03076a8a41c54563adac6dc29257054a",
       "version_major": 2,
       "version_minor": 0
      },
      "text/plain": [
       "Validation:   0%|          | 0/79 [00:00<?, ?batches/s]"
      ]
     },
     "metadata": {},
     "output_type": "display_data"
    },
    {
     "name": "stdout",
     "output_type": "stream",
     "text": [
      "Epoch 49. Train Loss: 197.38. Train Accuracy: 90.71\n",
      "\t Val Loss: 54.70. Val Accuracy: 78.78\n"
     ]
    },
    {
     "data": {
      "application/vnd.jupyter.widget-view+json": {
       "model_id": "164c77de223c4493a7ee2059330f3b6c",
       "version_major": 2,
       "version_minor": 0
      },
      "text/plain": [
       "Training:   0%|          | 0/625 [00:00<?, ?batches/s]"
      ]
     },
     "metadata": {},
     "output_type": "display_data"
    },
    {
     "data": {
      "application/vnd.jupyter.widget-view+json": {
       "model_id": "22b9e31be2c642e3808bef0c820e43c8",
       "version_major": 2,
       "version_minor": 0
      },
      "text/plain": [
       "Validation:   0%|          | 0/79 [00:00<?, ?batches/s]"
      ]
     },
     "metadata": {},
     "output_type": "display_data"
    },
    {
     "name": "stdout",
     "output_type": "stream",
     "text": [
      "Epoch 50. Train Loss: 200.55. Train Accuracy: 90.44\n",
      "\t Val Loss: 60.04. Val Accuracy: 77.61\n"
     ]
    },
    {
     "data": {
      "application/vnd.jupyter.widget-view+json": {
       "model_id": "fa926766ff894fdf9ff0130dab1fac54",
       "version_major": 2,
       "version_minor": 0
      },
      "text/plain": [
       "Training:   0%|          | 0/625 [00:00<?, ?batches/s]"
      ]
     },
     "metadata": {},
     "output_type": "display_data"
    },
    {
     "data": {
      "application/vnd.jupyter.widget-view+json": {
       "model_id": "0134df4d38324b17a881b1ba583fc3dc",
       "version_major": 2,
       "version_minor": 0
      },
      "text/plain": [
       "Validation:   0%|          | 0/79 [00:00<?, ?batches/s]"
      ]
     },
     "metadata": {},
     "output_type": "display_data"
    },
    {
     "name": "stdout",
     "output_type": "stream",
     "text": [
      "Epoch 51. Train Loss: 194.85. Train Accuracy: 90.60\n",
      "\t Val Loss: 56.11. Val Accuracy: 79.24\n"
     ]
    },
    {
     "data": {
      "application/vnd.jupyter.widget-view+json": {
       "model_id": "6e77c49c23f84999b14825e7e3c86b47",
       "version_major": 2,
       "version_minor": 0
      },
      "text/plain": [
       "Training:   0%|          | 0/625 [00:00<?, ?batches/s]"
      ]
     },
     "metadata": {},
     "output_type": "display_data"
    },
    {
     "data": {
      "application/vnd.jupyter.widget-view+json": {
       "model_id": "ca14411a04ef4cfbb1531fdc78099855",
       "version_major": 2,
       "version_minor": 0
      },
      "text/plain": [
       "Validation:   0%|          | 0/79 [00:00<?, ?batches/s]"
      ]
     },
     "metadata": {},
     "output_type": "display_data"
    },
    {
     "name": "stdout",
     "output_type": "stream",
     "text": [
      "Epoch 52. Train Loss: 192.42. Train Accuracy: 90.69\n",
      "\t Val Loss: 56.98. Val Accuracy: 78.66\n"
     ]
    },
    {
     "data": {
      "application/vnd.jupyter.widget-view+json": {
       "model_id": "e00303c6bc8e42afbde4a1a9760db5c1",
       "version_major": 2,
       "version_minor": 0
      },
      "text/plain": [
       "Training:   0%|          | 0/625 [00:00<?, ?batches/s]"
      ]
     },
     "metadata": {},
     "output_type": "display_data"
    },
    {
     "data": {
      "application/vnd.jupyter.widget-view+json": {
       "model_id": "4305cf21e01f4186acb4f91ec20cbf24",
       "version_major": 2,
       "version_minor": 0
      },
      "text/plain": [
       "Validation:   0%|          | 0/79 [00:00<?, ?batches/s]"
      ]
     },
     "metadata": {},
     "output_type": "display_data"
    },
    {
     "name": "stdout",
     "output_type": "stream",
     "text": [
      "Epoch 53. Train Loss: 191.67. Train Accuracy: 90.76\n",
      "\t Val Loss: 54.49. Val Accuracy: 79.43\n",
      "Epoch 53: Best accuracy so far. Saving weights...\n"
     ]
    },
    {
     "data": {
      "application/vnd.jupyter.widget-view+json": {
       "model_id": "42f9c124c3c440c0ab195be98253bb95",
       "version_major": 2,
       "version_minor": 0
      },
      "text/plain": [
       "Training:   0%|          | 0/625 [00:00<?, ?batches/s]"
      ]
     },
     "metadata": {},
     "output_type": "display_data"
    },
    {
     "data": {
      "application/vnd.jupyter.widget-view+json": {
       "model_id": "fb186aab8b2b4157a345805bd8f40aa5",
       "version_major": 2,
       "version_minor": 0
      },
      "text/plain": [
       "Validation:   0%|          | 0/79 [00:00<?, ?batches/s]"
      ]
     },
     "metadata": {},
     "output_type": "display_data"
    },
    {
     "name": "stdout",
     "output_type": "stream",
     "text": [
      "Epoch 54. Train Loss: 194.72. Train Accuracy: 90.67\n",
      "\t Val Loss: 55.79. Val Accuracy: 78.76\n"
     ]
    },
    {
     "data": {
      "application/vnd.jupyter.widget-view+json": {
       "model_id": "6d99556e7182486e890583ba32253a2a",
       "version_major": 2,
       "version_minor": 0
      },
      "text/plain": [
       "Training:   0%|          | 0/625 [00:00<?, ?batches/s]"
      ]
     },
     "metadata": {},
     "output_type": "display_data"
    },
    {
     "data": {
      "application/vnd.jupyter.widget-view+json": {
       "model_id": "e13ffadc1b26449fae47abd0685b5715",
       "version_major": 2,
       "version_minor": 0
      },
      "text/plain": [
       "Validation:   0%|          | 0/79 [00:00<?, ?batches/s]"
      ]
     },
     "metadata": {},
     "output_type": "display_data"
    },
    {
     "name": "stdout",
     "output_type": "stream",
     "text": [
      "Epoch 55. Train Loss: 186.37. Train Accuracy: 91.08\n",
      "\t Val Loss: 55.94. Val Accuracy: 79.20\n"
     ]
    },
    {
     "data": {
      "application/vnd.jupyter.widget-view+json": {
       "model_id": "76a5b3bb5cc8452e9d10ee17cf650084",
       "version_major": 2,
       "version_minor": 0
      },
      "text/plain": [
       "Training:   0%|          | 0/625 [00:00<?, ?batches/s]"
      ]
     },
     "metadata": {},
     "output_type": "display_data"
    },
    {
     "data": {
      "application/vnd.jupyter.widget-view+json": {
       "model_id": "3c107a8f98b34da2baa18ff71babaa7c",
       "version_major": 2,
       "version_minor": 0
      },
      "text/plain": [
       "Validation:   0%|          | 0/79 [00:00<?, ?batches/s]"
      ]
     },
     "metadata": {},
     "output_type": "display_data"
    },
    {
     "name": "stdout",
     "output_type": "stream",
     "text": [
      "Epoch 56. Train Loss: 197.30. Train Accuracy: 90.55\n",
      "\t Val Loss: 57.73. Val Accuracy: 78.65\n"
     ]
    },
    {
     "data": {
      "application/vnd.jupyter.widget-view+json": {
       "model_id": "0825917b4dcf41da8831bb18159d1301",
       "version_major": 2,
       "version_minor": 0
      },
      "text/plain": [
       "Training:   0%|          | 0/625 [00:00<?, ?batches/s]"
      ]
     },
     "metadata": {},
     "output_type": "display_data"
    },
    {
     "data": {
      "application/vnd.jupyter.widget-view+json": {
       "model_id": "aca21bec14224eb28dd3136e85c8c91a",
       "version_major": 2,
       "version_minor": 0
      },
      "text/plain": [
       "Validation:   0%|          | 0/79 [00:00<?, ?batches/s]"
      ]
     },
     "metadata": {},
     "output_type": "display_data"
    },
    {
     "name": "stdout",
     "output_type": "stream",
     "text": [
      "Epoch 57. Train Loss: 189.71. Train Accuracy: 91.01\n",
      "\t Val Loss: 57.99. Val Accuracy: 78.96\n"
     ]
    },
    {
     "data": {
      "application/vnd.jupyter.widget-view+json": {
       "model_id": "a9ab98ee6b63440a8d2fd02d800c8a73",
       "version_major": 2,
       "version_minor": 0
      },
      "text/plain": [
       "Training:   0%|          | 0/625 [00:00<?, ?batches/s]"
      ]
     },
     "metadata": {},
     "output_type": "display_data"
    },
    {
     "data": {
      "application/vnd.jupyter.widget-view+json": {
       "model_id": "f61d3e97c7fa4821a57bdf05f871e6b9",
       "version_major": 2,
       "version_minor": 0
      },
      "text/plain": [
       "Validation:   0%|          | 0/79 [00:00<?, ?batches/s]"
      ]
     },
     "metadata": {},
     "output_type": "display_data"
    },
    {
     "name": "stdout",
     "output_type": "stream",
     "text": [
      "Epoch 58. Train Loss: 192.08. Train Accuracy: 90.92\n",
      "\t Val Loss: 55.87. Val Accuracy: 79.27\n"
     ]
    },
    {
     "data": {
      "application/vnd.jupyter.widget-view+json": {
       "model_id": "71496f6425394a9097ac52ee61a1c3f6",
       "version_major": 2,
       "version_minor": 0
      },
      "text/plain": [
       "Training:   0%|          | 0/625 [00:00<?, ?batches/s]"
      ]
     },
     "metadata": {},
     "output_type": "display_data"
    },
    {
     "data": {
      "application/vnd.jupyter.widget-view+json": {
       "model_id": "daef42a2675546e6b9ac95d303502842",
       "version_major": 2,
       "version_minor": 0
      },
      "text/plain": [
       "Validation:   0%|          | 0/79 [00:00<?, ?batches/s]"
      ]
     },
     "metadata": {},
     "output_type": "display_data"
    },
    {
     "name": "stdout",
     "output_type": "stream",
     "text": [
      "Epoch 59. Train Loss: 192.98. Train Accuracy: 90.83\n",
      "\t Val Loss: 58.81. Val Accuracy: 77.98\n"
     ]
    },
    {
     "data": {
      "application/vnd.jupyter.widget-view+json": {
       "model_id": "de3f097d2b38406098709cbba859008e",
       "version_major": 2,
       "version_minor": 0
      },
      "text/plain": [
       "Training:   0%|          | 0/625 [00:00<?, ?batches/s]"
      ]
     },
     "metadata": {},
     "output_type": "display_data"
    },
    {
     "data": {
      "application/vnd.jupyter.widget-view+json": {
       "model_id": "adc49b17805f4ccfbeae4e0c3cdb543d",
       "version_major": 2,
       "version_minor": 0
      },
      "text/plain": [
       "Validation:   0%|          | 0/79 [00:00<?, ?batches/s]"
      ]
     },
     "metadata": {},
     "output_type": "display_data"
    },
    {
     "name": "stdout",
     "output_type": "stream",
     "text": [
      "Epoch 60. Train Loss: 193.64. Train Accuracy: 90.70\n",
      "\t Val Loss: 55.51. Val Accuracy: 79.12\n"
     ]
    },
    {
     "data": {
      "application/vnd.jupyter.widget-view+json": {
       "model_id": "fe078285ed594095b81e256fc61ace10",
       "version_major": 2,
       "version_minor": 0
      },
      "text/plain": [
       "Training:   0%|          | 0/625 [00:00<?, ?batches/s]"
      ]
     },
     "metadata": {},
     "output_type": "display_data"
    },
    {
     "data": {
      "application/vnd.jupyter.widget-view+json": {
       "model_id": "1897f82cc25a4aae87277aca0794e241",
       "version_major": 2,
       "version_minor": 0
      },
      "text/plain": [
       "Validation:   0%|          | 0/79 [00:00<?, ?batches/s]"
      ]
     },
     "metadata": {},
     "output_type": "display_data"
    },
    {
     "name": "stdout",
     "output_type": "stream",
     "text": [
      "Epoch 61. Train Loss: 189.05. Train Accuracy: 90.87\n",
      "\t Val Loss: 54.59. Val Accuracy: 79.44\n",
      "Epoch 61: Best accuracy so far. Saving weights...\n"
     ]
    },
    {
     "data": {
      "application/vnd.jupyter.widget-view+json": {
       "model_id": "081ecc88b8224da495961e1a115127c9",
       "version_major": 2,
       "version_minor": 0
      },
      "text/plain": [
       "Training:   0%|          | 0/625 [00:00<?, ?batches/s]"
      ]
     },
     "metadata": {},
     "output_type": "display_data"
    },
    {
     "data": {
      "application/vnd.jupyter.widget-view+json": {
       "model_id": "95a0b7fe936e437cbb32548363fed1e1",
       "version_major": 2,
       "version_minor": 0
      },
      "text/plain": [
       "Validation:   0%|          | 0/79 [00:00<?, ?batches/s]"
      ]
     },
     "metadata": {},
     "output_type": "display_data"
    },
    {
     "name": "stdout",
     "output_type": "stream",
     "text": [
      "Epoch 62. Train Loss: 182.61. Train Accuracy: 91.14\n",
      "\t Val Loss: 59.81. Val Accuracy: 78.68\n"
     ]
    },
    {
     "data": {
      "application/vnd.jupyter.widget-view+json": {
       "model_id": "d38a32f7b7e04f528c04d30f7e3a4a02",
       "version_major": 2,
       "version_minor": 0
      },
      "text/plain": [
       "Training:   0%|          | 0/625 [00:00<?, ?batches/s]"
      ]
     },
     "metadata": {},
     "output_type": "display_data"
    },
    {
     "data": {
      "application/vnd.jupyter.widget-view+json": {
       "model_id": "07e40c3fc9f243fa83569b0172a6780d",
       "version_major": 2,
       "version_minor": 0
      },
      "text/plain": [
       "Validation:   0%|          | 0/79 [00:00<?, ?batches/s]"
      ]
     },
     "metadata": {},
     "output_type": "display_data"
    },
    {
     "name": "stdout",
     "output_type": "stream",
     "text": [
      "Epoch 63. Train Loss: 183.68. Train Accuracy: 91.22\n",
      "\t Val Loss: 56.72. Val Accuracy: 78.66\n"
     ]
    },
    {
     "data": {
      "application/vnd.jupyter.widget-view+json": {
       "model_id": "032426023a624f0da909076fd0f48188",
       "version_major": 2,
       "version_minor": 0
      },
      "text/plain": [
       "Training:   0%|          | 0/625 [00:00<?, ?batches/s]"
      ]
     },
     "metadata": {},
     "output_type": "display_data"
    },
    {
     "data": {
      "application/vnd.jupyter.widget-view+json": {
       "model_id": "d5c9b955aab54c19a7991675ffe1285d",
       "version_major": 2,
       "version_minor": 0
      },
      "text/plain": [
       "Validation:   0%|          | 0/79 [00:00<?, ?batches/s]"
      ]
     },
     "metadata": {},
     "output_type": "display_data"
    },
    {
     "name": "stdout",
     "output_type": "stream",
     "text": [
      "Epoch 64. Train Loss: 184.29. Train Accuracy: 91.16\n",
      "\t Val Loss: 59.01. Val Accuracy: 78.23\n"
     ]
    },
    {
     "data": {
      "application/vnd.jupyter.widget-view+json": {
       "model_id": "a0b836e748ac4203be1bf8aee9cf48e1",
       "version_major": 2,
       "version_minor": 0
      },
      "text/plain": [
       "Training:   0%|          | 0/625 [00:00<?, ?batches/s]"
      ]
     },
     "metadata": {},
     "output_type": "display_data"
    },
    {
     "data": {
      "application/vnd.jupyter.widget-view+json": {
       "model_id": "e6fbbfc21b5e4b979d23d0ceb11f1c1f",
       "version_major": 2,
       "version_minor": 0
      },
      "text/plain": [
       "Validation:   0%|          | 0/79 [00:00<?, ?batches/s]"
      ]
     },
     "metadata": {},
     "output_type": "display_data"
    },
    {
     "name": "stdout",
     "output_type": "stream",
     "text": [
      "Epoch 65. Train Loss: 185.30. Train Accuracy: 91.07\n",
      "\t Val Loss: 57.29. Val Accuracy: 78.41\n"
     ]
    },
    {
     "data": {
      "application/vnd.jupyter.widget-view+json": {
       "model_id": "f46977bccd1d40b0883c772d253bc9f5",
       "version_major": 2,
       "version_minor": 0
      },
      "text/plain": [
       "Training:   0%|          | 0/625 [00:00<?, ?batches/s]"
      ]
     },
     "metadata": {},
     "output_type": "display_data"
    },
    {
     "data": {
      "application/vnd.jupyter.widget-view+json": {
       "model_id": "29198a19e7cb46758d25bc75619bd64a",
       "version_major": 2,
       "version_minor": 0
      },
      "text/plain": [
       "Validation:   0%|          | 0/79 [00:00<?, ?batches/s]"
      ]
     },
     "metadata": {},
     "output_type": "display_data"
    },
    {
     "name": "stdout",
     "output_type": "stream",
     "text": [
      "Epoch 66. Train Loss: 181.25. Train Accuracy: 91.25\n",
      "\t Val Loss: 55.07. Val Accuracy: 79.50\n",
      "Epoch 66: Best accuracy so far. Saving weights...\n"
     ]
    },
    {
     "data": {
      "application/vnd.jupyter.widget-view+json": {
       "model_id": "50a208e3acca46aa943df81f952c20b3",
       "version_major": 2,
       "version_minor": 0
      },
      "text/plain": [
       "Training:   0%|          | 0/625 [00:00<?, ?batches/s]"
      ]
     },
     "metadata": {},
     "output_type": "display_data"
    },
    {
     "data": {
      "application/vnd.jupyter.widget-view+json": {
       "model_id": "69b7eb24b8ae45329e5aa93278ef5e2d",
       "version_major": 2,
       "version_minor": 0
      },
      "text/plain": [
       "Validation:   0%|          | 0/79 [00:00<?, ?batches/s]"
      ]
     },
     "metadata": {},
     "output_type": "display_data"
    },
    {
     "name": "stdout",
     "output_type": "stream",
     "text": [
      "Epoch 67. Train Loss: 181.84. Train Accuracy: 91.11\n",
      "\t Val Loss: 55.31. Val Accuracy: 79.53\n",
      "Epoch 67: Best accuracy so far. Saving weights...\n"
     ]
    },
    {
     "data": {
      "application/vnd.jupyter.widget-view+json": {
       "model_id": "9d45b5357a8e481e920d62791eaf43b0",
       "version_major": 2,
       "version_minor": 0
      },
      "text/plain": [
       "Training:   0%|          | 0/625 [00:00<?, ?batches/s]"
      ]
     },
     "metadata": {},
     "output_type": "display_data"
    },
    {
     "data": {
      "application/vnd.jupyter.widget-view+json": {
       "model_id": "ae301e6496c345078f9353529cd3fc87",
       "version_major": 2,
       "version_minor": 0
      },
      "text/plain": [
       "Validation:   0%|          | 0/79 [00:00<?, ?batches/s]"
      ]
     },
     "metadata": {},
     "output_type": "display_data"
    },
    {
     "name": "stdout",
     "output_type": "stream",
     "text": [
      "Epoch 68. Train Loss: 178.13. Train Accuracy: 91.53\n",
      "\t Val Loss: 57.17. Val Accuracy: 79.25\n"
     ]
    },
    {
     "data": {
      "application/vnd.jupyter.widget-view+json": {
       "model_id": "45fcaa204ada49ecbb8d5939e2c9936c",
       "version_major": 2,
       "version_minor": 0
      },
      "text/plain": [
       "Training:   0%|          | 0/625 [00:00<?, ?batches/s]"
      ]
     },
     "metadata": {},
     "output_type": "display_data"
    },
    {
     "data": {
      "application/vnd.jupyter.widget-view+json": {
       "model_id": "b04b6a7785c745d4873b3ffeb72e685a",
       "version_major": 2,
       "version_minor": 0
      },
      "text/plain": [
       "Validation:   0%|          | 0/79 [00:00<?, ?batches/s]"
      ]
     },
     "metadata": {},
     "output_type": "display_data"
    },
    {
     "name": "stdout",
     "output_type": "stream",
     "text": [
      "Epoch 69. Train Loss: 173.93. Train Accuracy: 91.70\n",
      "\t Val Loss: 53.95. Val Accuracy: 79.81\n",
      "Epoch 69: Best accuracy so far. Saving weights...\n"
     ]
    },
    {
     "data": {
      "application/vnd.jupyter.widget-view+json": {
       "model_id": "a9bf2d8c5e2949a986909dd04279826e",
       "version_major": 2,
       "version_minor": 0
      },
      "text/plain": [
       "Training:   0%|          | 0/625 [00:00<?, ?batches/s]"
      ]
     },
     "metadata": {},
     "output_type": "display_data"
    },
    {
     "data": {
      "application/vnd.jupyter.widget-view+json": {
       "model_id": "fab7ed382a814593b39f0cf73b272691",
       "version_major": 2,
       "version_minor": 0
      },
      "text/plain": [
       "Validation:   0%|          | 0/79 [00:00<?, ?batches/s]"
      ]
     },
     "metadata": {},
     "output_type": "display_data"
    },
    {
     "name": "stdout",
     "output_type": "stream",
     "text": [
      "Epoch 70. Train Loss: 180.07. Train Accuracy: 91.49\n",
      "\t Val Loss: 52.79. Val Accuracy: 80.04\n",
      "Epoch 70: Best accuracy so far. Saving weights...\n"
     ]
    },
    {
     "data": {
      "application/vnd.jupyter.widget-view+json": {
       "model_id": "245844c282c94882a5934eb7e4724fc4",
       "version_major": 2,
       "version_minor": 0
      },
      "text/plain": [
       "Training:   0%|          | 0/625 [00:00<?, ?batches/s]"
      ]
     },
     "metadata": {},
     "output_type": "display_data"
    },
    {
     "data": {
      "application/vnd.jupyter.widget-view+json": {
       "model_id": "a57ef82df9f4420da05512d4391fd1c7",
       "version_major": 2,
       "version_minor": 0
      },
      "text/plain": [
       "Validation:   0%|          | 0/79 [00:00<?, ?batches/s]"
      ]
     },
     "metadata": {},
     "output_type": "display_data"
    },
    {
     "name": "stdout",
     "output_type": "stream",
     "text": [
      "Epoch 71. Train Loss: 175.51. Train Accuracy: 91.52\n",
      "\t Val Loss: 55.76. Val Accuracy: 79.65\n"
     ]
    },
    {
     "data": {
      "application/vnd.jupyter.widget-view+json": {
       "model_id": "5cd5c1e158534c128ed63f88466ae3c1",
       "version_major": 2,
       "version_minor": 0
      },
      "text/plain": [
       "Training:   0%|          | 0/625 [00:00<?, ?batches/s]"
      ]
     },
     "metadata": {},
     "output_type": "display_data"
    },
    {
     "data": {
      "application/vnd.jupyter.widget-view+json": {
       "model_id": "b7e15a8c72d249b8ad93c01c3232713c",
       "version_major": 2,
       "version_minor": 0
      },
      "text/plain": [
       "Validation:   0%|          | 0/79 [00:00<?, ?batches/s]"
      ]
     },
     "metadata": {},
     "output_type": "display_data"
    },
    {
     "name": "stdout",
     "output_type": "stream",
     "text": [
      "Epoch 72. Train Loss: 175.06. Train Accuracy: 91.62\n",
      "\t Val Loss: 59.44. Val Accuracy: 78.37\n"
     ]
    },
    {
     "data": {
      "application/vnd.jupyter.widget-view+json": {
       "model_id": "d0e311d746d04acdb03e70f4194d6877",
       "version_major": 2,
       "version_minor": 0
      },
      "text/plain": [
       "Training:   0%|          | 0/625 [00:00<?, ?batches/s]"
      ]
     },
     "metadata": {},
     "output_type": "display_data"
    },
    {
     "data": {
      "application/vnd.jupyter.widget-view+json": {
       "model_id": "a945c34fc04e4f6e859c3ec4bc577495",
       "version_major": 2,
       "version_minor": 0
      },
      "text/plain": [
       "Validation:   0%|          | 0/79 [00:00<?, ?batches/s]"
      ]
     },
     "metadata": {},
     "output_type": "display_data"
    },
    {
     "name": "stdout",
     "output_type": "stream",
     "text": [
      "Epoch 73. Train Loss: 177.50. Train Accuracy: 91.48\n",
      "\t Val Loss: 56.90. Val Accuracy: 79.29\n"
     ]
    },
    {
     "data": {
      "application/vnd.jupyter.widget-view+json": {
       "model_id": "349b92f2187f42adb4131b8bc9287d61",
       "version_major": 2,
       "version_minor": 0
      },
      "text/plain": [
       "Training:   0%|          | 0/625 [00:00<?, ?batches/s]"
      ]
     },
     "metadata": {},
     "output_type": "display_data"
    },
    {
     "data": {
      "application/vnd.jupyter.widget-view+json": {
       "model_id": "8e771d28706241109b4b1a795076f528",
       "version_major": 2,
       "version_minor": 0
      },
      "text/plain": [
       "Validation:   0%|          | 0/79 [00:00<?, ?batches/s]"
      ]
     },
     "metadata": {},
     "output_type": "display_data"
    },
    {
     "name": "stdout",
     "output_type": "stream",
     "text": [
      "Epoch 74. Train Loss: 175.88. Train Accuracy: 91.66\n",
      "\t Val Loss: 57.24. Val Accuracy: 79.25\n"
     ]
    },
    {
     "data": {
      "application/vnd.jupyter.widget-view+json": {
       "model_id": "6a5dc210d7474a5884e687d480a3b019",
       "version_major": 2,
       "version_minor": 0
      },
      "text/plain": [
       "Training:   0%|          | 0/625 [00:00<?, ?batches/s]"
      ]
     },
     "metadata": {},
     "output_type": "display_data"
    },
    {
     "data": {
      "application/vnd.jupyter.widget-view+json": {
       "model_id": "e1ef3c536b1945efa41daedc328ff663",
       "version_major": 2,
       "version_minor": 0
      },
      "text/plain": [
       "Validation:   0%|          | 0/79 [00:00<?, ?batches/s]"
      ]
     },
     "metadata": {},
     "output_type": "display_data"
    },
    {
     "name": "stdout",
     "output_type": "stream",
     "text": [
      "Epoch 75. Train Loss: 174.49. Train Accuracy: 91.72\n",
      "\t Val Loss: 54.73. Val Accuracy: 79.52\n"
     ]
    },
    {
     "data": {
      "application/vnd.jupyter.widget-view+json": {
       "model_id": "55ef0c6e0e7b431fafa91bd05da813f6",
       "version_major": 2,
       "version_minor": 0
      },
      "text/plain": [
       "Training:   0%|          | 0/625 [00:00<?, ?batches/s]"
      ]
     },
     "metadata": {},
     "output_type": "display_data"
    },
    {
     "data": {
      "application/vnd.jupyter.widget-view+json": {
       "model_id": "680469b4eb854750941223d73bbd4144",
       "version_major": 2,
       "version_minor": 0
      },
      "text/plain": [
       "Validation:   0%|          | 0/79 [00:00<?, ?batches/s]"
      ]
     },
     "metadata": {},
     "output_type": "display_data"
    },
    {
     "name": "stdout",
     "output_type": "stream",
     "text": [
      "Epoch 76. Train Loss: 174.37. Train Accuracy: 91.84\n",
      "\t Val Loss: 55.01. Val Accuracy: 79.98\n"
     ]
    },
    {
     "data": {
      "application/vnd.jupyter.widget-view+json": {
       "model_id": "0780cd8e256a464dbe4f87b20d49de2d",
       "version_major": 2,
       "version_minor": 0
      },
      "text/plain": [
       "Training:   0%|          | 0/625 [00:00<?, ?batches/s]"
      ]
     },
     "metadata": {},
     "output_type": "display_data"
    },
    {
     "data": {
      "application/vnd.jupyter.widget-view+json": {
       "model_id": "5a12ce33188246fa8201b540840f0efe",
       "version_major": 2,
       "version_minor": 0
      },
      "text/plain": [
       "Validation:   0%|          | 0/79 [00:00<?, ?batches/s]"
      ]
     },
     "metadata": {},
     "output_type": "display_data"
    },
    {
     "name": "stdout",
     "output_type": "stream",
     "text": [
      "Epoch 77. Train Loss: 171.13. Train Accuracy: 91.67\n",
      "\t Val Loss: 54.54. Val Accuracy: 79.88\n"
     ]
    },
    {
     "data": {
      "application/vnd.jupyter.widget-view+json": {
       "model_id": "b6837bd157964aa1882470e2b953fd60",
       "version_major": 2,
       "version_minor": 0
      },
      "text/plain": [
       "Training:   0%|          | 0/625 [00:00<?, ?batches/s]"
      ]
     },
     "metadata": {},
     "output_type": "display_data"
    },
    {
     "data": {
      "application/vnd.jupyter.widget-view+json": {
       "model_id": "d42988a97f3a46ac9111cb548a054494",
       "version_major": 2,
       "version_minor": 0
      },
      "text/plain": [
       "Validation:   0%|          | 0/79 [00:00<?, ?batches/s]"
      ]
     },
     "metadata": {},
     "output_type": "display_data"
    },
    {
     "name": "stdout",
     "output_type": "stream",
     "text": [
      "Epoch 78. Train Loss: 173.01. Train Accuracy: 91.80\n",
      "\t Val Loss: 56.96. Val Accuracy: 79.06\n"
     ]
    },
    {
     "data": {
      "application/vnd.jupyter.widget-view+json": {
       "model_id": "dd1e5df162824f19877894ff0d0acb8d",
       "version_major": 2,
       "version_minor": 0
      },
      "text/plain": [
       "Training:   0%|          | 0/625 [00:00<?, ?batches/s]"
      ]
     },
     "metadata": {},
     "output_type": "display_data"
    },
    {
     "data": {
      "application/vnd.jupyter.widget-view+json": {
       "model_id": "54018189953b40c7bcbfd7380308051e",
       "version_major": 2,
       "version_minor": 0
      },
      "text/plain": [
       "Validation:   0%|          | 0/79 [00:00<?, ?batches/s]"
      ]
     },
     "metadata": {},
     "output_type": "display_data"
    },
    {
     "name": "stdout",
     "output_type": "stream",
     "text": [
      "Epoch 79. Train Loss: 171.74. Train Accuracy: 91.79\n",
      "\t Val Loss: 53.08. Val Accuracy: 80.06\n",
      "Epoch 79: Best accuracy so far. Saving weights...\n"
     ]
    },
    {
     "data": {
      "application/vnd.jupyter.widget-view+json": {
       "model_id": "999069831aed44bc8227ef6df1337f98",
       "version_major": 2,
       "version_minor": 0
      },
      "text/plain": [
       "Training:   0%|          | 0/625 [00:00<?, ?batches/s]"
      ]
     },
     "metadata": {},
     "output_type": "display_data"
    },
    {
     "data": {
      "application/vnd.jupyter.widget-view+json": {
       "model_id": "98efed6aeda64ec1ab745aa958b3e479",
       "version_major": 2,
       "version_minor": 0
      },
      "text/plain": [
       "Validation:   0%|          | 0/79 [00:00<?, ?batches/s]"
      ]
     },
     "metadata": {},
     "output_type": "display_data"
    },
    {
     "name": "stdout",
     "output_type": "stream",
     "text": [
      "Epoch 80. Train Loss: 170.57. Train Accuracy: 91.92\n",
      "\t Val Loss: 56.74. Val Accuracy: 80.01\n"
     ]
    },
    {
     "data": {
      "application/vnd.jupyter.widget-view+json": {
       "model_id": "d6ed1fb6e9094807a4e51092f4b156f5",
       "version_major": 2,
       "version_minor": 0
      },
      "text/plain": [
       "Training:   0%|          | 0/625 [00:00<?, ?batches/s]"
      ]
     },
     "metadata": {},
     "output_type": "display_data"
    },
    {
     "data": {
      "application/vnd.jupyter.widget-view+json": {
       "model_id": "1020dc94057849179885e07f444d3512",
       "version_major": 2,
       "version_minor": 0
      },
      "text/plain": [
       "Validation:   0%|          | 0/79 [00:00<?, ?batches/s]"
      ]
     },
     "metadata": {},
     "output_type": "display_data"
    },
    {
     "name": "stdout",
     "output_type": "stream",
     "text": [
      "Epoch 81. Train Loss: 171.55. Train Accuracy: 91.78\n",
      "\t Val Loss: 57.98. Val Accuracy: 79.40\n"
     ]
    },
    {
     "data": {
      "application/vnd.jupyter.widget-view+json": {
       "model_id": "4b0c6cf146f849f7a447071e8aedfc70",
       "version_major": 2,
       "version_minor": 0
      },
      "text/plain": [
       "Training:   0%|          | 0/625 [00:00<?, ?batches/s]"
      ]
     },
     "metadata": {},
     "output_type": "display_data"
    },
    {
     "data": {
      "application/vnd.jupyter.widget-view+json": {
       "model_id": "b7cb5e63f8974485b53c66b5bf7d37df",
       "version_major": 2,
       "version_minor": 0
      },
      "text/plain": [
       "Validation:   0%|          | 0/79 [00:00<?, ?batches/s]"
      ]
     },
     "metadata": {},
     "output_type": "display_data"
    },
    {
     "name": "stdout",
     "output_type": "stream",
     "text": [
      "Epoch 82. Train Loss: 168.33. Train Accuracy: 91.92\n",
      "\t Val Loss: 53.67. Val Accuracy: 80.10\n",
      "Epoch 82: Best accuracy so far. Saving weights...\n"
     ]
    },
    {
     "data": {
      "application/vnd.jupyter.widget-view+json": {
       "model_id": "2588d929abb64dc7bb355ec90d4673ae",
       "version_major": 2,
       "version_minor": 0
      },
      "text/plain": [
       "Training:   0%|          | 0/625 [00:00<?, ?batches/s]"
      ]
     },
     "metadata": {},
     "output_type": "display_data"
    },
    {
     "data": {
      "application/vnd.jupyter.widget-view+json": {
       "model_id": "fda105e9e52c4c30a5536c789fb43723",
       "version_major": 2,
       "version_minor": 0
      },
      "text/plain": [
       "Validation:   0%|          | 0/79 [00:00<?, ?batches/s]"
      ]
     },
     "metadata": {},
     "output_type": "display_data"
    },
    {
     "name": "stdout",
     "output_type": "stream",
     "text": [
      "Epoch 83. Train Loss: 176.45. Train Accuracy: 91.62\n",
      "\t Val Loss: 59.35. Val Accuracy: 79.52\n"
     ]
    },
    {
     "data": {
      "application/vnd.jupyter.widget-view+json": {
       "model_id": "f796c7d6332d4eff99e459b47af3fd6b",
       "version_major": 2,
       "version_minor": 0
      },
      "text/plain": [
       "Training:   0%|          | 0/625 [00:00<?, ?batches/s]"
      ]
     },
     "metadata": {},
     "output_type": "display_data"
    },
    {
     "data": {
      "application/vnd.jupyter.widget-view+json": {
       "model_id": "2280c89ce2b04622ac5231d6da2776dd",
       "version_major": 2,
       "version_minor": 0
      },
      "text/plain": [
       "Validation:   0%|          | 0/79 [00:00<?, ?batches/s]"
      ]
     },
     "metadata": {},
     "output_type": "display_data"
    },
    {
     "name": "stdout",
     "output_type": "stream",
     "text": [
      "Epoch 84. Train Loss: 169.50. Train Accuracy: 91.94\n",
      "\t Val Loss: 55.35. Val Accuracy: 79.48\n"
     ]
    },
    {
     "data": {
      "application/vnd.jupyter.widget-view+json": {
       "model_id": "41a54c9853ab4eac9faf29b3cfc078e0",
       "version_major": 2,
       "version_minor": 0
      },
      "text/plain": [
       "Training:   0%|          | 0/625 [00:00<?, ?batches/s]"
      ]
     },
     "metadata": {},
     "output_type": "display_data"
    },
    {
     "data": {
      "application/vnd.jupyter.widget-view+json": {
       "model_id": "0a4268e85b6741af91503a948c8b3f58",
       "version_major": 2,
       "version_minor": 0
      },
      "text/plain": [
       "Validation:   0%|          | 0/79 [00:00<?, ?batches/s]"
      ]
     },
     "metadata": {},
     "output_type": "display_data"
    },
    {
     "name": "stdout",
     "output_type": "stream",
     "text": [
      "Epoch 85. Train Loss: 171.81. Train Accuracy: 91.91\n",
      "\t Val Loss: 56.62. Val Accuracy: 79.60\n"
     ]
    },
    {
     "data": {
      "application/vnd.jupyter.widget-view+json": {
       "model_id": "56a1bb6be95c441496437e55c1741dd9",
       "version_major": 2,
       "version_minor": 0
      },
      "text/plain": [
       "Training:   0%|          | 0/625 [00:00<?, ?batches/s]"
      ]
     },
     "metadata": {},
     "output_type": "display_data"
    },
    {
     "data": {
      "application/vnd.jupyter.widget-view+json": {
       "model_id": "069a7be6bac14fab9834a5d0e7f383c5",
       "version_major": 2,
       "version_minor": 0
      },
      "text/plain": [
       "Validation:   0%|          | 0/79 [00:00<?, ?batches/s]"
      ]
     },
     "metadata": {},
     "output_type": "display_data"
    },
    {
     "name": "stdout",
     "output_type": "stream",
     "text": [
      "Epoch 86. Train Loss: 172.27. Train Accuracy: 91.92\n",
      "\t Val Loss: 55.73. Val Accuracy: 79.22\n"
     ]
    },
    {
     "data": {
      "application/vnd.jupyter.widget-view+json": {
       "model_id": "28195c87997a4225a492ae8b20d293d3",
       "version_major": 2,
       "version_minor": 0
      },
      "text/plain": [
       "Training:   0%|          | 0/625 [00:00<?, ?batches/s]"
      ]
     },
     "metadata": {},
     "output_type": "display_data"
    },
    {
     "data": {
      "application/vnd.jupyter.widget-view+json": {
       "model_id": "42db173c1b1149589e3a73451cd0123c",
       "version_major": 2,
       "version_minor": 0
      },
      "text/plain": [
       "Validation:   0%|          | 0/79 [00:00<?, ?batches/s]"
      ]
     },
     "metadata": {},
     "output_type": "display_data"
    },
    {
     "name": "stdout",
     "output_type": "stream",
     "text": [
      "Epoch 87. Train Loss: 168.73. Train Accuracy: 91.98\n",
      "\t Val Loss: 54.67. Val Accuracy: 79.86\n"
     ]
    },
    {
     "data": {
      "application/vnd.jupyter.widget-view+json": {
       "model_id": "941a5cd3ee5447d18dc319aa6e3126b9",
       "version_major": 2,
       "version_minor": 0
      },
      "text/plain": [
       "Training:   0%|          | 0/625 [00:00<?, ?batches/s]"
      ]
     },
     "metadata": {},
     "output_type": "display_data"
    },
    {
     "data": {
      "application/vnd.jupyter.widget-view+json": {
       "model_id": "1099867e268b4001824f70906038b772",
       "version_major": 2,
       "version_minor": 0
      },
      "text/plain": [
       "Validation:   0%|          | 0/79 [00:00<?, ?batches/s]"
      ]
     },
     "metadata": {},
     "output_type": "display_data"
    },
    {
     "name": "stdout",
     "output_type": "stream",
     "text": [
      "Epoch 88. Train Loss: 169.67. Train Accuracy: 91.86\n",
      "\t Val Loss: 53.19. Val Accuracy: 80.46\n",
      "Epoch 88: Best accuracy so far. Saving weights...\n"
     ]
    },
    {
     "data": {
      "application/vnd.jupyter.widget-view+json": {
       "model_id": "0604b12a9e774b4ea334402cbfca0510",
       "version_major": 2,
       "version_minor": 0
      },
      "text/plain": [
       "Training:   0%|          | 0/625 [00:00<?, ?batches/s]"
      ]
     },
     "metadata": {},
     "output_type": "display_data"
    },
    {
     "data": {
      "application/vnd.jupyter.widget-view+json": {
       "model_id": "f6ce5b226d4a46b59420b67c3b1638fb",
       "version_major": 2,
       "version_minor": 0
      },
      "text/plain": [
       "Validation:   0%|          | 0/79 [00:00<?, ?batches/s]"
      ]
     },
     "metadata": {},
     "output_type": "display_data"
    },
    {
     "name": "stdout",
     "output_type": "stream",
     "text": [
      "Epoch 89. Train Loss: 170.40. Train Accuracy: 92.01\n",
      "\t Val Loss: 54.98. Val Accuracy: 79.84\n"
     ]
    },
    {
     "data": {
      "application/vnd.jupyter.widget-view+json": {
       "model_id": "a27fb36d4d1f475ca7056720ec0f05cc",
       "version_major": 2,
       "version_minor": 0
      },
      "text/plain": [
       "Training:   0%|          | 0/625 [00:00<?, ?batches/s]"
      ]
     },
     "metadata": {},
     "output_type": "display_data"
    },
    {
     "data": {
      "application/vnd.jupyter.widget-view+json": {
       "model_id": "13c7bed28ef74e049d191898d7e920c5",
       "version_major": 2,
       "version_minor": 0
      },
      "text/plain": [
       "Validation:   0%|          | 0/79 [00:00<?, ?batches/s]"
      ]
     },
     "metadata": {},
     "output_type": "display_data"
    },
    {
     "name": "stdout",
     "output_type": "stream",
     "text": [
      "Epoch 90. Train Loss: 166.31. Train Accuracy: 92.21\n",
      "\t Val Loss: 57.21. Val Accuracy: 78.63\n"
     ]
    },
    {
     "data": {
      "application/vnd.jupyter.widget-view+json": {
       "model_id": "006ecdad1f7b4ed684ebb81293cea8eb",
       "version_major": 2,
       "version_minor": 0
      },
      "text/plain": [
       "Training:   0%|          | 0/625 [00:00<?, ?batches/s]"
      ]
     },
     "metadata": {},
     "output_type": "display_data"
    },
    {
     "data": {
      "application/vnd.jupyter.widget-view+json": {
       "model_id": "c6d947078a5e4b20829daabf53052eb1",
       "version_major": 2,
       "version_minor": 0
      },
      "text/plain": [
       "Validation:   0%|          | 0/79 [00:00<?, ?batches/s]"
      ]
     },
     "metadata": {},
     "output_type": "display_data"
    },
    {
     "name": "stdout",
     "output_type": "stream",
     "text": [
      "Epoch 91. Train Loss: 170.26. Train Accuracy: 91.81\n",
      "\t Val Loss: 53.41. Val Accuracy: 79.70\n"
     ]
    },
    {
     "data": {
      "application/vnd.jupyter.widget-view+json": {
       "model_id": "f83d395f2989476e93fbb45550ea96c9",
       "version_major": 2,
       "version_minor": 0
      },
      "text/plain": [
       "Training:   0%|          | 0/625 [00:00<?, ?batches/s]"
      ]
     },
     "metadata": {},
     "output_type": "display_data"
    },
    {
     "data": {
      "application/vnd.jupyter.widget-view+json": {
       "model_id": "67eb1feee0794e5c84bcf5643863ccba",
       "version_major": 2,
       "version_minor": 0
      },
      "text/plain": [
       "Validation:   0%|          | 0/79 [00:00<?, ?batches/s]"
      ]
     },
     "metadata": {},
     "output_type": "display_data"
    },
    {
     "name": "stdout",
     "output_type": "stream",
     "text": [
      "Epoch 92. Train Loss: 165.12. Train Accuracy: 92.22\n",
      "\t Val Loss: 56.11. Val Accuracy: 78.92\n"
     ]
    },
    {
     "data": {
      "application/vnd.jupyter.widget-view+json": {
       "model_id": "e71f7ddbcc0749b589e860c668a32f57",
       "version_major": 2,
       "version_minor": 0
      },
      "text/plain": [
       "Training:   0%|          | 0/625 [00:00<?, ?batches/s]"
      ]
     },
     "metadata": {},
     "output_type": "display_data"
    },
    {
     "data": {
      "application/vnd.jupyter.widget-view+json": {
       "model_id": "5a01b0231d574d0d8fd05fedd2851a89",
       "version_major": 2,
       "version_minor": 0
      },
      "text/plain": [
       "Validation:   0%|          | 0/79 [00:00<?, ?batches/s]"
      ]
     },
     "metadata": {},
     "output_type": "display_data"
    },
    {
     "name": "stdout",
     "output_type": "stream",
     "text": [
      "Epoch 93. Train Loss: 163.47. Train Accuracy: 92.15\n",
      "\t Val Loss: 57.36. Val Accuracy: 79.18\n"
     ]
    },
    {
     "data": {
      "application/vnd.jupyter.widget-view+json": {
       "model_id": "99ce8613f44943f0bca134dcc36610c3",
       "version_major": 2,
       "version_minor": 0
      },
      "text/plain": [
       "Training:   0%|          | 0/625 [00:00<?, ?batches/s]"
      ]
     },
     "metadata": {},
     "output_type": "display_data"
    },
    {
     "data": {
      "application/vnd.jupyter.widget-view+json": {
       "model_id": "37817a3e189e4acba2e5b577f4206de3",
       "version_major": 2,
       "version_minor": 0
      },
      "text/plain": [
       "Validation:   0%|          | 0/79 [00:00<?, ?batches/s]"
      ]
     },
     "metadata": {},
     "output_type": "display_data"
    },
    {
     "name": "stdout",
     "output_type": "stream",
     "text": [
      "Epoch 94. Train Loss: 165.00. Train Accuracy: 92.12\n",
      "\t Val Loss: 53.09. Val Accuracy: 80.20\n"
     ]
    },
    {
     "data": {
      "application/vnd.jupyter.widget-view+json": {
       "model_id": "523ebc4699cb44368a0a73abecc088fc",
       "version_major": 2,
       "version_minor": 0
      },
      "text/plain": [
       "Training:   0%|          | 0/625 [00:00<?, ?batches/s]"
      ]
     },
     "metadata": {},
     "output_type": "display_data"
    },
    {
     "data": {
      "application/vnd.jupyter.widget-view+json": {
       "model_id": "263ee660a6c5488dae0e96de57f63cb7",
       "version_major": 2,
       "version_minor": 0
      },
      "text/plain": [
       "Validation:   0%|          | 0/79 [00:00<?, ?batches/s]"
      ]
     },
     "metadata": {},
     "output_type": "display_data"
    },
    {
     "name": "stdout",
     "output_type": "stream",
     "text": [
      "Epoch 95. Train Loss: 164.60. Train Accuracy: 92.23\n",
      "\t Val Loss: 57.74. Val Accuracy: 79.54\n"
     ]
    },
    {
     "data": {
      "application/vnd.jupyter.widget-view+json": {
       "model_id": "4d50c43fa1774f6d919a16c5b16cb082",
       "version_major": 2,
       "version_minor": 0
      },
      "text/plain": [
       "Training:   0%|          | 0/625 [00:00<?, ?batches/s]"
      ]
     },
     "metadata": {},
     "output_type": "display_data"
    },
    {
     "data": {
      "application/vnd.jupyter.widget-view+json": {
       "model_id": "724133d1ee79499fbd7ef6a5678b2f61",
       "version_major": 2,
       "version_minor": 0
      },
      "text/plain": [
       "Validation:   0%|          | 0/79 [00:00<?, ?batches/s]"
      ]
     },
     "metadata": {},
     "output_type": "display_data"
    },
    {
     "name": "stdout",
     "output_type": "stream",
     "text": [
      "Epoch 96. Train Loss: 163.88. Train Accuracy: 92.21\n",
      "\t Val Loss: 55.24. Val Accuracy: 79.45\n"
     ]
    },
    {
     "data": {
      "application/vnd.jupyter.widget-view+json": {
       "model_id": "a4e141aa26e142a485b050bd1777a19e",
       "version_major": 2,
       "version_minor": 0
      },
      "text/plain": [
       "Training:   0%|          | 0/625 [00:00<?, ?batches/s]"
      ]
     },
     "metadata": {},
     "output_type": "display_data"
    },
    {
     "data": {
      "application/vnd.jupyter.widget-view+json": {
       "model_id": "101ab83a322643269d064509ca70299f",
       "version_major": 2,
       "version_minor": 0
      },
      "text/plain": [
       "Validation:   0%|          | 0/79 [00:00<?, ?batches/s]"
      ]
     },
     "metadata": {},
     "output_type": "display_data"
    },
    {
     "name": "stdout",
     "output_type": "stream",
     "text": [
      "Epoch 97. Train Loss: 167.91. Train Accuracy: 92.00\n",
      "\t Val Loss: 54.48. Val Accuracy: 80.16\n"
     ]
    },
    {
     "data": {
      "application/vnd.jupyter.widget-view+json": {
       "model_id": "d0a452d4bbd94c5d9fb463ebade5eb99",
       "version_major": 2,
       "version_minor": 0
      },
      "text/plain": [
       "Training:   0%|          | 0/625 [00:00<?, ?batches/s]"
      ]
     },
     "metadata": {},
     "output_type": "display_data"
    },
    {
     "data": {
      "application/vnd.jupyter.widget-view+json": {
       "model_id": "a4eda63555b44c1d849947c5be3196bc",
       "version_major": 2,
       "version_minor": 0
      },
      "text/plain": [
       "Validation:   0%|          | 0/79 [00:00<?, ?batches/s]"
      ]
     },
     "metadata": {},
     "output_type": "display_data"
    },
    {
     "name": "stdout",
     "output_type": "stream",
     "text": [
      "Epoch 98. Train Loss: 163.82. Train Accuracy: 92.21\n",
      "\t Val Loss: 56.93. Val Accuracy: 79.50\n"
     ]
    },
    {
     "data": {
      "application/vnd.jupyter.widget-view+json": {
       "model_id": "5a9b50b68bf9455b9c79dbec520d9456",
       "version_major": 2,
       "version_minor": 0
      },
      "text/plain": [
       "Training:   0%|          | 0/625 [00:00<?, ?batches/s]"
      ]
     },
     "metadata": {},
     "output_type": "display_data"
    },
    {
     "data": {
      "application/vnd.jupyter.widget-view+json": {
       "model_id": "2c28360d279343afa0e256c807d56826",
       "version_major": 2,
       "version_minor": 0
      },
      "text/plain": [
       "Validation:   0%|          | 0/79 [00:00<?, ?batches/s]"
      ]
     },
     "metadata": {},
     "output_type": "display_data"
    },
    {
     "name": "stdout",
     "output_type": "stream",
     "text": [
      "Epoch 99. Train Loss: 161.11. Train Accuracy: 92.36\n",
      "\t Val Loss: 60.72. Val Accuracy: 78.62\n",
      "Best Epoch: 88\t Best Accuracy: 80.4589\n"
     ]
    }
   ],
   "source": [
    "train_losses, train_accuracies, val_losses, val_accuracies = train(model, 100)"
   ]
  },
  {
   "cell_type": "markdown",
   "id": "2636ab1b",
   "metadata": {},
   "source": [
    "## Inference"
   ]
  },
  {
   "cell_type": "code",
   "execution_count": 77,
   "id": "c04a82ef",
   "metadata": {
    "ExecuteTime": {
     "end_time": "2021-10-27T19:34:47.688128Z",
     "start_time": "2021-10-27T19:34:47.578122Z"
    }
   },
   "outputs": [],
   "source": [
    "model.load_state_dict(torch.load('classifier_full_change_dropout_position.pt'))\n",
    "model.to(torch.device('cpu'))\n",
    "model.eval();"
   ]
  },
  {
   "cell_type": "code",
   "execution_count": 63,
   "id": "ea0f858c",
   "metadata": {
    "ExecuteTime": {
     "end_time": "2021-10-27T18:58:32.807216Z",
     "start_time": "2021-10-27T18:58:32.785214Z"
    }
   },
   "outputs": [],
   "source": [
    "with open(\"cifar/train_paths.pickle\", \"rb\") as f:\n",
    "    paths = pickle.load(f)"
   ]
  },
  {
   "cell_type": "code",
   "execution_count": 102,
   "id": "d279ccf6",
   "metadata": {
    "ExecuteTime": {
     "end_time": "2021-10-27T19:52:09.899123Z",
     "start_time": "2021-10-27T19:52:09.877127Z"
    }
   },
   "outputs": [],
   "source": [
    "def store_train_vectors(model, images, paths):\n",
    "    transform = T.ToTensor()\n",
    "    for i, x in enumerate(tqdm(images)):\n",
    "        tensor = transform(x).float()\n",
    "        tensor = torch.unsqueeze(tensor, 0)\n",
    "        features_512 = model.get_dense_features(2, tensor)\n",
    "        features_128 = model.get_dense_features(4, tensor)\n",
    "        features_stack = torch.hstack((features_512, features_128))\n",
    "        train_vector = features_stack.detach().numpy()\n",
    "\n",
    "        filename = paths[i].split('/')[-1][:-4]\n",
    "        with open(\"vectors/\" + filename + \".npy\", \"wb\") as f:\n",
    "            np.save(f, train_vector)"
   ]
  },
  {
   "cell_type": "code",
   "execution_count": 103,
   "id": "7486b8b0",
   "metadata": {
    "ExecuteTime": {
     "end_time": "2021-10-27T20:45:10.473956Z",
     "start_time": "2021-10-27T19:52:20.266074Z"
    }
   },
   "outputs": [
    {
     "data": {
      "application/vnd.jupyter.widget-view+json": {
       "model_id": "6d3cf43292be4749a1e8c2f5541706d7",
       "version_major": 2,
       "version_minor": 0
      },
      "text/plain": [
       "  0%|          | 0/50000 [00:00<?, ?it/s]"
      ]
     },
     "metadata": {},
     "output_type": "display_data"
    }
   ],
   "source": [
    "store_train_vectors(model, images, paths)"
   ]
  },
  {
   "cell_type": "code",
   "execution_count": 107,
   "id": "a57adbb0",
   "metadata": {
    "ExecuteTime": {
     "end_time": "2021-10-27T20:46:05.629619Z",
     "start_time": "2021-10-27T20:46:05.609633Z"
    }
   },
   "outputs": [],
   "source": [
    "def infer(model, train_vectors_dir, query_img_path, k=50, distance=\"hamming\"):\n",
    "    '''\n",
    "    Load image from query_img_path\n",
    "    Get feature vector of query\n",
    "    For all vectors:\n",
    "        Load a vector from train_vectors_dir\n",
    "        Compute similarity betweeen query and vector\n",
    "        Store similarity in array\n",
    "    Sort similarities array using argsort\n",
    "    Return indices of top k similar vectors\n",
    "    '''\n",
    "    assert distance in (\n",
    "        \"hamming\",\n",
    "        \"cosine\"), \"Invalid Distance Metric! Valid: 'hamming' or 'cosine'\"\n",
    "    query = load_image(query_img_path, (32, 32))\n",
    "    transform = T.ToTensor()\n",
    "    tensor = transform(query).unsqueeze(0).float()\n",
    "    features_512 = model.get_dense_features(2, tensor)\n",
    "    features_128 = model.get_dense_features(4, tensor)\n",
    "    features_stack = torch.hstack((features_512, features_128))\n",
    "    query_vector = features_stack.detach().numpy()\n",
    "    if distance == \"hamming\":\n",
    "        query_vector = np.where(query_vector < 0.5, 0, 1)\n",
    "\n",
    "    files = os.listdir(train_vectors_dir)\n",
    "    similarities = np.zeros(len(files))\n",
    "    for i, filename in enumerate(tqdm(files)):\n",
    "        vector_path = os.path.join(train_vectors_dir, filename)\n",
    "        train_vector = np.load(vector_path)\n",
    "        if distance == \"hamming\":\n",
    "            train_vector = np.where(train_vector < 0.5, 0, 1)\n",
    "            similarities[i] = hamming(train_vector, query_vector)\n",
    "        else:\n",
    "            similarities[i] = cosine(train_vector, query_vector)\n",
    "    indices = np.argsort(similarities)\n",
    "    if distance == \"hamming\":\n",
    "        return indices[:k]\n",
    "    else:\n",
    "        return indices[-k::-1]"
   ]
  },
  {
   "cell_type": "markdown",
   "id": "bb1f55a1",
   "metadata": {},
   "source": [
    "### Testing"
   ]
  },
  {
   "cell_type": "code",
   "execution_count": 115,
   "id": "2c04d64c",
   "metadata": {
    "ExecuteTime": {
     "end_time": "2021-10-27T20:55:19.001043Z",
     "start_time": "2021-10-27T20:55:18.782051Z"
    }
   },
   "outputs": [
    {
     "data": {
      "text/plain": [
       "<matplotlib.image.AxesImage at 0x1bd7efd44c0>"
      ]
     },
     "execution_count": 115,
     "metadata": {},
     "output_type": "execute_result"
    },
    {
     "data": {
      "image/png": "[encoded data removed]",
      "text/plain": [
       "<Figure size 432x288 with 1 Axes>"
      ]
     },
     "metadata": {
      "needs_background": "light"
     },
     "output_type": "display_data"
    }
   ],
   "source": [
    "test_img = \"cifar/test/265_ship.png\"\n",
    "plt.imshow(load_image(test_img, (32, 32)))"
   ]
  },
  {
   "cell_type": "code",
   "execution_count": 116,
   "id": "b50e75ef",
   "metadata": {
    "ExecuteTime": {
     "end_time": "2021-10-27T20:55:46.161892Z",
     "start_time": "2021-10-27T20:55:19.388873Z"
    }
   },
   "outputs": [
    {
     "data": {
      "application/vnd.jupyter.widget-view+json": {
       "model_id": "0b2e64915b7f4ef49a3a83dd7d835d83",
       "version_major": 2,
       "version_minor": 0
      },
      "text/plain": [
       "  0%|          | 0/50000 [00:00<?, ?it/s]"
      ]
     },
     "metadata": {},
     "output_type": "display_data"
    }
   ],
   "source": [
    "indices = infer(model, \"vectors\", test_img)"
   ]
  },
  {
   "cell_type": "code",
   "execution_count": 117,
   "id": "3746a010",
   "metadata": {
    "ExecuteTime": {
     "end_time": "2021-10-27T20:55:53.067573Z",
     "start_time": "2021-10-27T20:55:46.163870Z"
    }
   },
   "outputs": [
    {
     "data": {
      "image/png": "[encoded data removed]",
      "text/plain": [
       "<Figure size 1152x1152 with 50 Axes>"
      ]
     },
     "metadata": {
      "needs_background": "light"
     },
     "output_type": "display_data"
    }
   ],
   "source": [
    "fig = plt.figure(figsize=(16, 16))\n",
    "cols = 10\n",
    "rows = 5\n",
    "for i in range(1, rows * cols + 1):\n",
    "    img = load_image(paths[indices[i - 1]], (32, 32))\n",
    "    fig.add_subplot(rows, cols, i)\n",
    "    plt.imshow(img)\n",
    "plt.show()"
   ]
  },
  {
   "cell_type": "code",
   "execution_count": null,
   "id": "d30b4472",
   "metadata": {},
   "outputs": [],
   "source": []
  }
 ],
 "metadata": {
  "kernelspec": {
   "display_name": "Python 3 (ipykernel)",
   "language": "python",
   "name": "python3"
  },
  "language_info": {
   "codemirror_mode": {
    "name": "ipython",
    "version": 3
   },
   "file_extension": ".py",
   "mimetype": "text/x-python",
   "name": "python",
   "nbconvert_exporter": "python",
   "pygments_lexer": "ipython3",
   "version": "3.8.8"
  }
 },
 "nbformat": 4,
 "nbformat_minor": 5
}
